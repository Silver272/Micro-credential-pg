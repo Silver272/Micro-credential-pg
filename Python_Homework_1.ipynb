{
  "nbformat": 4,
  "nbformat_minor": 0,
  "metadata": {
    "colab": {
      "name": "Python Homework 1.ipynb",
      "provenance": [],
      "collapsed_sections": [],
      "include_colab_link": true
    },
    "kernelspec": {
      "name": "python3",
      "display_name": "Python 3"
    },
    "language_info": {
      "name": "python"
    }
  },
  "cells": [
    {
      "cell_type": "markdown",
      "metadata": {
        "id": "view-in-github",
        "colab_type": "text"
      },
      "source": [
        "<a href=\"https://colab.research.google.com/github/Silver272/Micro-credential-pg/blob/main/Python_Homework_1.ipynb\" target=\"_parent\"><img src=\"https://colab.research.google.com/assets/colab-badge.svg\" alt=\"Open In Colab\"/></a>"
      ]
    },
    {
      "cell_type": "markdown",
      "source": [
        "# Answer all the questions!"
      ],
      "metadata": {
        "id": "FkJsXd8D06Rp"
      }
    },
    {
      "cell_type": "markdown",
      "source": [
        "##Write a Python program to get the volume of a sphere with radius 6"
      ],
      "metadata": {
        "id": "elOgKZR009ex"
      }
    },
    {
      "cell_type": "code",
      "source": [
        "pi = 3.14          # pi is a constant\n",
        "radius = 6.0       # radius is given\n",
        "volume = 4.0/3.0*pi*radius**3     # formula for finding volume of a sphere\n",
        "print (\"Volume of sphere is:\" , volume)     #prints the volume  of the sphere"
      ],
      "metadata": {
        "id": "YbhKO6Cs09av",
        "outputId": "1097acf5-c9a9-4a32-fc88-1a9453476e8d",
        "colab": {
          "base_uri": "https://localhost:8080/"
        }
      },
      "execution_count": null,
      "outputs": [
        {
          "output_type": "stream",
          "name": "stdout",
          "text": [
            "Volume of sphere is: 904.3199999999999\n"
          ]
        }
      ]
    },
    {
      "cell_type": "markdown",
      "source": [
        "##Write a Python program to find whether a given number (accept from the user) is even or odd"
      ],
      "metadata": {
        "id": "OuX7aazu09X1"
      }
    },
    {
      "cell_type": "code",
      "source": [
        "num = int(input (\"Enter any number to find whether it is even or odd:\"))\n",
        "if (num / 2) == 0:\n",
        "   print (\"The number is even\")\n",
        "else:\n",
        "  print (\"The given number is odd\")   "
      ],
      "metadata": {
        "id": "vcYhNNaU09Uz",
        "colab": {
          "base_uri": "https://localhost:8080/"
        },
        "outputId": "097cd4ab-b5b3-467c-d687-9c5631ef3177"
      },
      "execution_count": 8,
      "outputs": [
        {
          "output_type": "stream",
          "name": "stdout",
          "text": [
            "Enter any number to find whether it is even or odd:5\n",
            "The given number is odd\n"
          ]
        }
      ]
    },
    {
      "cell_type": "markdown",
      "source": [
        "##Write a Python program to count the number 4 in a given list"
      ],
      "metadata": {
        "id": "NP5TZKqO09Rr"
      }
    },
    {
      "cell_type": "code",
      "source": [
        "def list_count_4(nums):\n",
        "  count = 0\n",
        "  for num in nums:\n",
        "    if num == 4:\n",
        "      count = count + 1\n",
        "\n",
        "  return count\n",
        "print(list_count_4([2, 3, 4, 5, 4]))       "
      ],
      "metadata": {
        "id": "oWZ3vTfW09Oh",
        "colab": {
          "base_uri": "https://localhost:8080/"
        },
        "outputId": "1471c7c1-b3ad-41d3-9838-5cc3b1040342"
      },
      "execution_count": 10,
      "outputs": [
        {
          "output_type": "stream",
          "name": "stdout",
          "text": [
            "2\n"
          ]
        }
      ]
    },
    {
      "cell_type": "markdown",
      "source": [
        "##Write a Python program that will accept the base and height of a triangle and compute the area"
      ],
      "metadata": {
        "id": "IK0FvUoa1MJG"
      }
    },
    {
      "cell_type": "code",
      "source": [
        "base = int(input(\"Enter the base of the triangle:\"))\n",
        "height = int(input(\"Enter the height of the triangle:\"))\n",
        "\n",
        "area = base*height/2\n",
        "\n",
        "print (\"area of triangle is \", area)"
      ],
      "metadata": {
        "id": "G02dv4rh1MFs",
        "colab": {
          "base_uri": "https://localhost:8080/"
        },
        "outputId": "a10a61c9-b5f1-413f-fab2-ad174fb07d32"
      },
      "execution_count": 11,
      "outputs": [
        {
          "output_type": "stream",
          "name": "stdout",
          "text": [
            "Enter the base of the triangle:5\n",
            "Enter the height of the triangle:8\n",
            "area of triangle is  20.0\n"
          ]
        }
      ]
    },
    {
      "cell_type": "markdown",
      "source": [
        "##Write a Python program to convert the distance (in feet) to inches, yards, and miles."
      ],
      "metadata": {
        "id": "sOkeycZk1L5-"
      }
    },
    {
      "cell_type": "code",
      "source": [
        "d_ft = int(input(\"Input distance in feet: \"))\n",
        "d_inches = d_ft * 12\n",
        "d_yards = d_ft / 3.0\n",
        "d_miles = d_ft / 5280.0\n",
        "\n",
        "print(\"The distance in inches is %i inches.\" % d_inches)\n",
        "print(\"The distance in yards is %.2f yards.\" % d_yards)\n",
        "print(\"The distance in miles is %.2f miles.\" % d_miles)"
      ],
      "metadata": {
        "id": "YtW-ZxqB1L2c",
        "colab": {
          "base_uri": "https://localhost:8080/"
        },
        "outputId": "4acd8ab2-d96b-4eae-e414-a362f5ce6913"
      },
      "execution_count": 12,
      "outputs": [
        {
          "output_type": "stream",
          "name": "stdout",
          "text": [
            "Input distance in feet: 100\n",
            "The distance in inches is 1200 inches.\n",
            "The distance in yards is 33.33 yards.\n",
            "The distance in miles is 0.02 miles.\n"
          ]
        }
      ]
    }
  ]
}