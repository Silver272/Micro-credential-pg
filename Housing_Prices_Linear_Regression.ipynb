{
  "nbformat": 4,
  "nbformat_minor": 0,
  "metadata": {
    "colab": {
      "name": "Housing Prices Linear Regression.ipynb",
      "provenance": [],
      "collapsed_sections": [
        "5E9mLi8po24S",
        "yUlXpcxYpQQi",
        "-k9cDB0NN3fa",
        "Cy_ruMeipXXS",
        "OeGhop4Dpeyd",
        "91bwkMqupkig",
        "NCfHtZLIprJ0",
        "ruQCLP0ZpyEK",
        "oBD8eERH5ifo",
        "GcQlRjicp8kv"
      ],
      "authorship_tag": "ABX9TyM7r/g90Rk1Ota3YQLSHI6g",
      "include_colab_link": true
    },
    "kernelspec": {
      "name": "python3",
      "display_name": "Python 3"
    },
    "language_info": {
      "name": "python"
    }
  },
  "cells": [
    {
      "cell_type": "markdown",
      "metadata": {
        "id": "view-in-github",
        "colab_type": "text"
      },
      "source": [
        "<a href=\"https://colab.research.google.com/github/Silver272/Micro-credential-pg/blob/main/Housing_Prices_Linear_Regression.ipynb\" target=\"_parent\"><img src=\"https://colab.research.google.com/assets/colab-badge.svg\" alt=\"Open In Colab\"/></a>"
      ]
    },
    {
      "cell_type": "markdown",
      "source": [
        "# Task 1: Identify the Problem"
      ],
      "metadata": {
        "id": "5E9mLi8po24S"
      }
    },
    {
      "cell_type": "markdown",
      "source": [
        "This example uses housing price data from King County, WA that includes Seattle. The data is publically available on [Kaggle](https://www.kaggle.com/prabin96/predict-housing-prices/data).\n",
        "\n",
        "Linear regression is perhaps the simplest of all models. Given a set a set of input values and expected values, a linear equation of this form can fit that data:\n",
        "\n",
        "$$y = a_1 x + a_0$$\n",
        "\n",
        "In this case, x represents the living area of a particular house, and y represents it's sale price. The goal of linear regression is to compute the slope $a_1$ and y-intercept $a_0$ that minimizes error.\n",
        "\n",
        "This could be considered a kind of learning, where a machine is learning the values for $a_1$ and $a_0$ given a set of training data. Once trained, the model can be used to predict the value of a house in King County given the amount of living area.\n",
        "\n",
        "\n",
        "\n"
      ],
      "metadata": {
        "id": "QWFstJmJyYJh"
      }
    },
    {
      "cell_type": "markdown",
      "source": [
        "# Task 2: Load the libraries\n",
        "\n",
        "\n",
        "\n"
      ],
      "metadata": {
        "id": "kpkoz2ZkpATW"
      }
    },
    {
      "cell_type": "code",
      "source": [
        "# Import Packages\n",
        "import pandas as pd\n",
        "import numpy as np\n",
        "import matplotlib.pyplot as plt\n",
        "\n",
        "from sklearn.linear_model import LinearRegression\n",
        "from sklearn.model_selection import train_test_split"
      ],
      "metadata": {
        "id": "RTBZDiCEqW3a"
      },
      "execution_count": 7,
      "outputs": []
    },
    {
      "cell_type": "markdown",
      "source": [
        "# Task 3: Load the Data"
      ],
      "metadata": {
        "id": "ka9XmDLdpMX6"
      }
    },
    {
      "cell_type": "code",
      "source": [
        "!wget https://raw.githubusercontent.com/msiddalingaiah/MachineLearning/master/Regression/data/kc_house_data.csv -O kc_house_data.csv"
      ],
      "metadata": {
        "colab": {
          "base_uri": "https://localhost:8080/"
        },
        "id": "Pv44L0QTzG8r",
        "outputId": "743a2f72-4484-448a-b55a-3bbce443e4b9"
      },
      "execution_count": 8,
      "outputs": [
        {
          "output_type": "stream",
          "name": "stdout",
          "text": [
            "--2022-07-21 02:23:03--  https://raw.githubusercontent.com/msiddalingaiah/MachineLearning/master/Regression/data/kc_house_data.csv\n",
            "Resolving raw.githubusercontent.com (raw.githubusercontent.com)... 185.199.108.133, 185.199.109.133, 185.199.110.133, ...\n",
            "Connecting to raw.githubusercontent.com (raw.githubusercontent.com)|185.199.108.133|:443... connected.\n",
            "HTTP request sent, awaiting response... 200 OK\n",
            "Length: 2515206 (2.4M) [text/plain]\n",
            "Saving to: ‘kc_house_data.csv’\n",
            "\n",
            "kc_house_data.csv   100%[===================>]   2.40M  --.-KB/s    in 0.08s   \n",
            "\n",
            "2022-07-21 02:23:04 (30.0 MB/s) - ‘kc_house_data.csv’ saved [2515206/2515206]\n",
            "\n"
          ]
        }
      ]
    },
    {
      "cell_type": "markdown",
      "source": [
        "# Task 4: EDA (Exploratory Data Analysis)"
      ],
      "metadata": {
        "id": "yUlXpcxYpQQi"
      }
    },
    {
      "cell_type": "code",
      "source": [
        "data = pd.read_csv(\"kc_house_data.csv\")\n",
        "\"\"\"\n",
        "Read a comma-separated values (csv) file into DataFrame\n",
        "\"\"\""
      ],
      "metadata": {
        "colab": {
          "base_uri": "https://localhost:8080/",
          "height": 1000
        },
        "id": "e2T4J6Ye1CZQ",
        "outputId": "f31762ab-628c-4bfd-8dd2-f41c1a8fef95"
      },
      "execution_count": 9,
      "outputs": [
        {
          "output_type": "execute_result",
          "data": {
            "text/plain": [
              "'\\nRead a comma-separated values (csv) file into DataFrame\\n'"
            ],
            "application/vnd.google.colaboratory.intrinsic+json": {
              "type": "string"
            }
          },
          "metadata": {},
          "execution_count": 9
        }
      ]
    },
    {
      "cell_type": "code",
      "source": [
        "data.head()\n",
        "\"\"\"\n",
        "This function returns the first n rows for the object based on position. It is useful for quickly testing if your \n",
        "object has the right type of data in it the right type of data in it.\n",
        "For negative values of n, this function returns all rows except the last n rows, equivalent to df[:-n]\n",
        "\"\"\""
      ],
      "metadata": {
        "colab": {
          "base_uri": "https://localhost:8080/",
          "height": 1000
        },
        "id": "oJgA8s0Y1MfI",
        "outputId": "98dcb15c-021f-498b-ac11-837d3325e3cb"
      },
      "execution_count": 10,
      "outputs": [
        {
          "output_type": "execute_result",
          "data": {
            "text/plain": [
              "'\\nThis function returns the first n rows for the object based on position. It is useful for quickly testing if your \\nobject has the right type of data in it the right type of data in it.\\nFor negative values of n, this function returns all rows except the last n rows, equivalent to df[:-n]\\n'"
            ],
            "application/vnd.google.colaboratory.intrinsic+json": {
              "type": "string"
            }
          },
          "metadata": {},
          "execution_count": 10
        }
      ]
    },
    {
      "cell_type": "code",
      "source": [
        "data.columns\n",
        "\"\"\"\n",
        "The column labels of the DataFrame\n",
        "\"\"\""
      ],
      "metadata": {
        "colab": {
          "base_uri": "https://localhost:8080/",
          "height": 734
        },
        "id": "QBxlAvbz1MLJ",
        "outputId": "0e11a7ce-1cc7-4688-980c-9843c1e7fdee"
      },
      "execution_count": 11,
      "outputs": [
        {
          "output_type": "execute_result",
          "data": {
            "text/plain": [
              "'\\nThe column labels of the DataFrame\\n'"
            ],
            "application/vnd.google.colaboratory.intrinsic+json": {
              "type": "string"
            }
          },
          "metadata": {},
          "execution_count": 11
        }
      ]
    },
    {
      "cell_type": "code",
      "source": [
        "data.info()\n",
        "\"\"\"\n",
        "Print a concise summary of a DataFrame.\n",
        "\n",
        "This method prints information about a DataFrame including \n",
        "the index dtype and columns, non-null values and memory usage.\n",
        "\"\"\""
      ],
      "metadata": {
        "colab": {
          "base_uri": "https://localhost:8080/",
          "height": 1000
        },
        "id": "Fu1_8aTn1L2m",
        "outputId": "4bdad914-e507-4797-f9f4-98994394dc4e"
      },
      "execution_count": 12,
      "outputs": [
        {
          "output_type": "stream",
          "name": "stdout",
          "text": [
            "<class 'pandas.core.frame.DataFrame'>\n",
            "RangeIndex: 21613 entries, 0 to 21612\n",
            "Data columns (total 21 columns):\n",
            " #   Column         Non-Null Count  Dtype  \n",
            "---  ------         --------------  -----  \n",
            " 0   id             21613 non-null  int64  \n",
            " 1   date           21613 non-null  object \n",
            " 2   price          21613 non-null  float64\n",
            " 3   bedrooms       21613 non-null  int64  \n",
            " 4   bathrooms      21613 non-null  float64\n",
            " 5   sqft_living    21613 non-null  int64  \n",
            " 6   sqft_lot       21613 non-null  int64  \n",
            " 7   floors         21613 non-null  float64\n",
            " 8   waterfront     21613 non-null  int64  \n",
            " 9   view           21613 non-null  int64  \n",
            " 10  condition      21613 non-null  int64  \n",
            " 11  grade          21613 non-null  int64  \n",
            " 12  sqft_above     21613 non-null  int64  \n",
            " 13  sqft_basement  21613 non-null  int64  \n",
            " 14  yr_built       21613 non-null  int64  \n",
            " 15  yr_renovated   21613 non-null  int64  \n",
            " 16  zipcode        21613 non-null  int64  \n",
            " 17  lat            21613 non-null  float64\n",
            " 18  long           21613 non-null  float64\n",
            " 19  sqft_living15  21613 non-null  int64  \n",
            " 20  sqft_lot15     21613 non-null  int64  \n",
            "dtypes: float64(5), int64(15), object(1)\n",
            "memory usage: 3.5+ MB\n"
          ]
        },
        {
          "output_type": "execute_result",
          "data": {
            "text/plain": [
              "'\\nPrint a concise summary of a DataFrame.\\n\\nThis method prints information about a DataFrame including \\nthe index dtype and columns, non-null values and memory usage.\\n'"
            ],
            "application/vnd.google.colaboratory.intrinsic+json": {
              "type": "string"
            }
          },
          "metadata": {},
          "execution_count": 12
        }
      ]
    },
    {
      "cell_type": "code",
      "source": [
        "space = data['sqft_living']\n",
        "price = data['price']"
      ],
      "metadata": {
        "id": "wbKL8JYh14sG"
      },
      "execution_count": 13,
      "outputs": []
    },
    {
      "cell_type": "code",
      "source": [
        "# Change x into 2D array\n",
        "X = np.array(space).reshape(-1,1)\n",
        "Y = np.array(price)"
      ],
      "metadata": {
        "id": "2cOuh5MF2CVY"
      },
      "execution_count": 14,
      "outputs": []
    },
    {
      "cell_type": "code",
      "source": [
        "# Shows the array \n",
        "X"
      ],
      "metadata": {
        "colab": {
          "base_uri": "https://localhost:8080/"
        },
        "id": "WMXiY1Hn2sdr",
        "outputId": "6c6938f8-64f1-478e-f6a7-de3e03449689"
      },
      "execution_count": 15,
      "outputs": [
        {
          "output_type": "execute_result",
          "data": {
            "text/plain": [
              "array([[1180],\n",
              "       [2570],\n",
              "       [ 770],\n",
              "       ...,\n",
              "       [1020],\n",
              "       [1600],\n",
              "       [1020]])"
            ]
          },
          "metadata": {},
          "execution_count": 15
        }
      ]
    },
    {
      "cell_type": "code",
      "source": [
        "Y"
      ],
      "metadata": {
        "colab": {
          "base_uri": "https://localhost:8080/"
        },
        "id": "hAQPtuJj2sRc",
        "outputId": "6ce091ad-e523-4fcb-817f-80251df00669"
      },
      "execution_count": 16,
      "outputs": [
        {
          "output_type": "execute_result",
          "data": {
            "text/plain": [
              "array([221900., 538000., 180000., ..., 402101., 400000., 325000.])"
            ]
          },
          "metadata": {},
          "execution_count": 16
        }
      ]
    },
    {
      "cell_type": "markdown",
      "source": [
        "# Create the Data Split"
      ],
      "metadata": {
        "id": "-k9cDB0NN3fa"
      }
    },
    {
      "cell_type": "code",
      "source": [
        "# Split data into train sets and test sets\n",
        "X_train,X_test,Y_train,Y_test = train_test_split(X,Y,test_size=0.3,random_state=0)"
      ],
      "metadata": {
        "id": "WHKPXHFXN9zz"
      },
      "execution_count": 17,
      "outputs": []
    },
    {
      "cell_type": "markdown",
      "source": [
        "# Task 5: Data Visualization"
      ],
      "metadata": {
        "id": "Cy_ruMeipXXS"
      }
    },
    {
      "cell_type": "code",
      "source": [
        "# Visualize training set\n",
        "plt.scatter(X_train, Y_train,color=\"red\",label=\"Living Area\")\n",
        "plt.title(\"Housing Prices in King County, WA\")\n",
        "plt.xlabel(\"Area (sq-ft)\")\n",
        "plt.ylabel(\"Price (USD)\")\n",
        "plt.legend()\n",
        "plt.show()"
      ],
      "metadata": {
        "colab": {
          "base_uri": "https://localhost:8080/",
          "height": 54
        },
        "id": "176myA-S4d_c",
        "outputId": "f75118b7-ba6a-4121-e3ca-46c94a20fcfa"
      },
      "execution_count": 18,
      "outputs": [
        {
          "output_type": "display_data",
          "data": {
            "text/plain": [
              "<Figure size 432x288 with 1 Axes>"
            ],
            "image/png": "[encoded data removed]"
          },
          "metadata": {
            "needs_background": "light"
          }
        }
      ]
    },
    {
      "cell_type": "markdown",
      "source": [
        "# Task 6:Compute the Cost Function"
      ],
      "metadata": {
        "id": "OeGhop4Dpeyd"
      }
    },
    {
      "cell_type": "code",
      "source": [
        "# At this time, no cost function needed!"
      ],
      "metadata": {
        "id": "HQwlJWqlK5Mw"
      },
      "execution_count": 19,
      "outputs": []
    },
    {
      "cell_type": "markdown",
      "source": [
        "#Task 7: Compute the Gradient Descent"
      ],
      "metadata": {
        "id": "91bwkMqupkig"
      }
    },
    {
      "cell_type": "code",
      "source": [
        "# At this time, no gradient descent needed!"
      ],
      "metadata": {
        "id": "19hxcno5LBfW"
      },
      "execution_count": 20,
      "outputs": []
    },
    {
      "cell_type": "markdown",
      "source": [
        "# Task 8: Visualizing the Cost Function"
      ],
      "metadata": {
        "id": "NCfHtZLIprJ0"
      }
    },
    {
      "cell_type": "code",
      "source": [
        "# At this time, no cost function needed!"
      ],
      "metadata": {
        "id": "9c6sZEg-LFgx"
      },
      "execution_count": 21,
      "outputs": []
    },
    {
      "cell_type": "markdown",
      "source": [
        "#Task 9: Conduct the Linear Regression on the Data"
      ],
      "metadata": {
        "id": "ruQCLP0ZpyEK"
      }
    },
    {
      "cell_type": "code",
      "source": [
        "### Create the Linear Regression model"
      ],
      "metadata": {
        "id": "N2cyM63kp8Bb"
      },
      "execution_count": 22,
      "outputs": []
    },
    {
      "cell_type": "code",
      "source": [
        "regressor = LinearRegression()"
      ],
      "metadata": {
        "id": "KG5U-0Qf5Zcm"
      },
      "execution_count": 23,
      "outputs": []
    },
    {
      "cell_type": "markdown",
      "source": [
        "#Train The Linear Regression Model"
      ],
      "metadata": {
        "id": "oBD8eERH5ifo"
      }
    },
    {
      "cell_type": "code",
      "source": [
        "regressor.fit(X_train, Y_train)"
      ],
      "metadata": {
        "colab": {
          "base_uri": "https://localhost:8080/"
        },
        "id": "nyhFNCRZ5rHK",
        "outputId": "2ce020ce-0fd6-470d-b3ae-bd156944d14c"
      },
      "execution_count": 24,
      "outputs": [
        {
          "output_type": "execute_result",
          "data": {
            "text/plain": [
              "LinearRegression()"
            ]
          },
          "metadata": {},
          "execution_count": 24
        }
      ]
    },
    {
      "cell_type": "markdown",
      "source": [
        "#Task 10: Making Predictions"
      ],
      "metadata": {
        "id": "GcQlRjicp8kv"
      }
    },
    {
      "cell_type": "code",
      "source": [
        "y_pred = regressor.predict(X_test)"
      ],
      "metadata": {
        "id": "uUiPZfsrqFEz"
      },
      "execution_count": 25,
      "outputs": []
    },
    {
      "cell_type": "code",
      "source": [
        "# Visualize training set\n",
        "plt.scatter(X_train, Y_train,color=\"red\",label=\"Living Area\")\n",
        "plt.title(\"Housing Prices in King County, WA\")\n",
        "plt.plot(X_train,regressor.predict(X_train),color=\"blue\",label=\"Price\")\n",
        "plt.xlabel(\"Area (sq-ft)\")\n",
        "plt.ylabel(\"Price (USD)\")\n",
        "plt.legend()\n",
        "plt.show() "
      ],
      "metadata": {
        "colab": {
          "base_uri": "https://localhost:8080/",
          "height": 295
        },
        "id": "r0mkjOosS3JL",
        "outputId": "252e48ba-1078-43a8-e2fa-90f9f1095f13"
      },
      "execution_count": 26,
      "outputs": [
        {
          "output_type": "display_data",
          "data": {
            "text/plain": [
              "<Figure size 432x288 with 1 Axes>"
            ],
            "image/png": "[encoded data removed]"
          },
          "metadata": {
            "needs_background": "light"
          }
        }
      ]
    },
    {
      "cell_type": "code",
      "source": [
        "# Predicts house price using area(sq-ft)\n",
        "area = int(input('Enter the area of the house in feet: '))\n",
        "price = regressor.predict([[area]])\n",
        "print('House of %d sq-ft cost about $%d' % (area, price))"
      ],
      "metadata": {
        "colab": {
          "base_uri": "https://localhost:8080/"
        },
        "id": "c9fQvLalU4L-",
        "outputId": "9a859513-2a28-4b0f-a9b8-e9d4e3cf803c"
      },
      "execution_count": 27,
      "outputs": [
        {
          "output_type": "stream",
          "name": "stdout",
          "text": [
            "Enter the area of the house in feet: 2400\n",
            "House of 2400 sq-ft cost about $630095\n"
          ]
        }
      ]
    },
    {
      "cell_type": "markdown",
      "source": [
        "# Analysis using sqft_basement"
      ],
      "metadata": {
        "id": "MU72svR2evy1"
      }
    },
    {
      "cell_type": "code",
      "source": [
        "space2 = data['sqft_basement']\n",
        "price = data['price']"
      ],
      "metadata": {
        "id": "QVeI6DDsg6Ek"
      },
      "execution_count": 28,
      "outputs": []
    },
    {
      "cell_type": "code",
      "source": [
        "# Change x into 2D array\n",
        "X = np.array(space2).reshape(-1,1)\n",
        "Y = np.array(price)"
      ],
      "metadata": {
        "id": "Bd5msQvheaqf"
      },
      "execution_count": 29,
      "outputs": []
    },
    {
      "cell_type": "code",
      "source": [
        "# Split data into train sets and test sets\n",
        "X_train,X_test,Y_train,Y_test = train_test_split(X,Y,test_size=0.3,random_state=0)"
      ],
      "metadata": {
        "id": "Ri7pcHiPhIlw"
      },
      "execution_count": 30,
      "outputs": []
    },
    {
      "cell_type": "code",
      "source": [
        "model2 = LinearRegression()"
      ],
      "metadata": {
        "id": "U6SsKUBQhhDd"
      },
      "execution_count": 31,
      "outputs": []
    },
    {
      "cell_type": "code",
      "source": [
        "model2.fit(X_train, Y_train)"
      ],
      "metadata": {
        "colab": {
          "base_uri": "https://localhost:8080/"
        },
        "id": "vI4PV6DthIbV",
        "outputId": "47126b82-bb1c-4e92-c47e-0888fc5cdd12"
      },
      "execution_count": 32,
      "outputs": [
        {
          "output_type": "execute_result",
          "data": {
            "text/plain": [
              "LinearRegression()"
            ]
          },
          "metadata": {},
          "execution_count": 32
        }
      ]
    },
    {
      "cell_type": "code",
      "source": [
        "# Predicts house price using area(sq-ft)\n",
        "area = int(input('Enter the area of the house basement in feet: '))\n",
        "price = model2.predict([[area]])\n",
        "print('House of %d sq-ft cost about $%d' % (area, price))"
      ],
      "metadata": {
        "colab": {
          "base_uri": "https://localhost:8080/"
        },
        "id": "OPMfzn-ohrHy",
        "outputId": "2654e8fa-3b54-46fd-ad52-0646e7d367e4"
      },
      "execution_count": 33,
      "outputs": [
        {
          "output_type": "stream",
          "name": "stdout",
          "text": [
            "Enter the area of the house basement in feet: 300\n",
            "House of 300 sq-ft cost about $542945\n"
          ]
        }
      ]
    },
    {
      "cell_type": "markdown",
      "source": [
        "# Analysis using bathrooms"
      ],
      "metadata": {
        "id": "rjJm4rjuetdZ"
      }
    },
    {
      "cell_type": "code",
      "source": [
        "space3 = data['bathrooms']\n",
        "price = data['price']"
      ],
      "metadata": {
        "id": "v85Wz4FTfDz7"
      },
      "execution_count": 34,
      "outputs": []
    },
    {
      "cell_type": "code",
      "source": [
        "# Change x into 2D array\n",
        "X = np.array(space3).reshape(-1,1)\n",
        "Y = np.array(price)"
      ],
      "metadata": {
        "id": "5mJTuf9uh6yG"
      },
      "execution_count": 35,
      "outputs": []
    },
    {
      "cell_type": "code",
      "source": [
        "# Split data into train sets and test sets\n",
        "X_train,X_test,Y_train,Y_test = train_test_split(X,Y,test_size=0.3,random_state=0)"
      ],
      "metadata": {
        "id": "XzDasjITh6k5"
      },
      "execution_count": 36,
      "outputs": []
    },
    {
      "cell_type": "code",
      "source": [
        "model3 = LinearRegression()"
      ],
      "metadata": {
        "id": "g7g30wyUh6ch"
      },
      "execution_count": 37,
      "outputs": []
    },
    {
      "cell_type": "code",
      "source": [
        "model3.fit(X_train, Y_train)"
      ],
      "metadata": {
        "colab": {
          "base_uri": "https://localhost:8080/"
        },
        "id": "MCpot3p_h6UB",
        "outputId": "14ac42b8-c89d-4bbb-fd9f-14d42b06992d"
      },
      "execution_count": 38,
      "outputs": [
        {
          "output_type": "execute_result",
          "data": {
            "text/plain": [
              "LinearRegression()"
            ]
          },
          "metadata": {},
          "execution_count": 38
        }
      ]
    },
    {
      "cell_type": "code",
      "source": [
        "# Predicts house price using number of bathrooms\n",
        "bathroom = int(input('Enter the number of bathrooms in the house: '))\n",
        "price = model2.predict([[area]])\n",
        "print('House with %d bathrooms cost about $%d' % (bathroom, price))"
      ],
      "metadata": {
        "colab": {
          "base_uri": "https://localhost:8080/"
        },
        "id": "Ym8ndy96h6K6",
        "outputId": "e912ec71-b7b1-402d-deff-6c53b5130f46"
      },
      "execution_count": 39,
      "outputs": [
        {
          "output_type": "stream",
          "name": "stdout",
          "text": [
            "Enter the number of bathrooms in the house: 2\n",
            "House with 2 bathrooms cost about $542945\n"
          ]
        }
      ]
    },
    {
      "cell_type": "markdown",
      "source": [
        "# Analysis using bedrooms"
      ],
      "metadata": {
        "id": "u9vstvWRfEcc"
      }
    },
    {
      "cell_type": "code",
      "source": [
        "space4 = data['bedrooms']\n",
        "price = data['price']"
      ],
      "metadata": {
        "id": "WBzbACYQfWGo"
      },
      "execution_count": 41,
      "outputs": []
    },
    {
      "cell_type": "code",
      "source": [
        "# Change x into 2D array\n",
        "X = np.array(space4).reshape(-1,1)\n",
        "Y = np.array(price)"
      ],
      "metadata": {
        "id": "uask5OPJlAbg"
      },
      "execution_count": 42,
      "outputs": []
    },
    {
      "cell_type": "code",
      "source": [
        "# Split data into train sets and test sets\n",
        "X_train,X_test,Y_train,Y_test = train_test_split(X,Y,test_size=0.3,random_state=0)"
      ],
      "metadata": {
        "id": "M0XHVIrqlSPW"
      },
      "execution_count": 43,
      "outputs": []
    },
    {
      "cell_type": "code",
      "source": [
        "model4 = LinearRegression()"
      ],
      "metadata": {
        "id": "c1B846APla1A"
      },
      "execution_count": 44,
      "outputs": []
    },
    {
      "cell_type": "code",
      "source": [
        "model4.fit(X_train, Y_train)"
      ],
      "metadata": {
        "colab": {
          "base_uri": "https://localhost:8080/"
        },
        "id": "_xz4BM7_lkwA",
        "outputId": "b2a5f25e-10a0-438b-fa5e-e2dd273bbc61"
      },
      "execution_count": 45,
      "outputs": [
        {
          "output_type": "execute_result",
          "data": {
            "text/plain": [
              "LinearRegression()"
            ]
          },
          "metadata": {},
          "execution_count": 45
        }
      ]
    },
    {
      "cell_type": "code",
      "source": [
        "# Predicts house price using number of bedrooms\n",
        "bedroom = int(input('Enter the number of bedrooms in the house: '))\n",
        "price = model2.predict([[area]])\n",
        "print('House with %d bedrooms cost about $%d' % (bedroom, price))\n"
      ],
      "metadata": {
        "colab": {
          "base_uri": "https://localhost:8080/"
        },
        "id": "B9n7VKEIlrzm",
        "outputId": "748069c4-9baa-4de3-95ae-cec4f8d5f0f8"
      },
      "execution_count": 48,
      "outputs": [
        {
          "output_type": "stream",
          "name": "stdout",
          "text": [
            "Enter the number of bedrooms in the house: 2\n",
            "House with 2 bedrooms cost about $542945\n"
          ]
        }
      ]
    }
  ]
}