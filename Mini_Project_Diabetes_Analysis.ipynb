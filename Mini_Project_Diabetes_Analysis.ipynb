{
  "nbformat": 4,
  "nbformat_minor": 0,
  "metadata": {
    "colab": {
      "name": "Mini Project - Diabetes  Analysis.ipynb",
      "provenance": [],
      "collapsed_sections": [],
      "authorship_tag": "ABX9TyPaO782V/l3GQPkeRXc/zI6",
      "include_colab_link": true
    },
    "kernelspec": {
      "name": "python3",
      "display_name": "Python 3"
    },
    "language_info": {
      "name": "python"
    }
  },
  "cells": [
    {
      "cell_type": "markdown",
      "metadata": {
        "id": "view-in-github",
        "colab_type": "text"
      },
      "source": [
        "<a href=\"https://colab.research.google.com/github/Silver272/Micro-credential-pg/blob/main/Mini_Project_Diabetes_Analysis.ipynb\" target=\"_parent\"><img src=\"https://colab.research.google.com/assets/colab-badge.svg\" alt=\"Open In Colab\"/></a>"
      ]
    },
    {
      "cell_type": "markdown",
      "source": [
        "# Task 1: Overview"
      ],
      "metadata": {
        "id": "5E9mLi8po24S"
      }
    },
    {
      "cell_type": "markdown",
      "source": [
        "The dataset represents 10 years (1999-2008) of clinical care at 130 US hospitals and integrated delivery networks for patients with diabetes. It includes over 50 features representing patient and hospital outcomes.\n",
        "Information was extracted from the database for encounters that satisfied the following criteria.\n",
        "It is an inpatient encounter (a hospital admission).\n",
        "\n",
        "\n",
        "\n",
        "\n",
        "\n",
        "\n"
      ],
      "metadata": {
        "id": "QWFstJmJyYJh"
      }
    },
    {
      "cell_type": "markdown",
      "source": [
        "# Task 2: Load the libraries\n",
        "\n",
        "\n",
        "\n"
      ],
      "metadata": {
        "id": "kpkoz2ZkpATW"
      }
    },
    {
      "cell_type": "code",
      "source": [
        "import pandas as pd\n",
        "import numpy as np\n",
        "import matplotlib.pyplot as plt\n",
        "import seaborn as sns\n",
        "sns.set()\n",
        "import plotly\n",
        "import cufflinks as cf\n",
        "\n",
        "cf.go_offline()"
      ],
      "metadata": {
        "id": "RTBZDiCEqW3a",
        "colab": {
          "base_uri": "https://localhost:8080/",
          "height": 17
        },
        "outputId": "7270659a-2ed6-4503-93ca-4878c1355b03"
      },
      "execution_count": 1,
      "outputs": [
        {
          "output_type": "display_data",
          "data": {
            "text/html": [
              "        <script type=\"text/javascript\">\n",
              "        window.PlotlyConfig = {MathJaxConfig: 'local'};\n",
              "        if (window.MathJax) {MathJax.Hub.Config({SVG: {font: \"STIX-Web\"}});}\n",
              "        if (typeof require !== 'undefined') {\n",
              "        require.undef(\"plotly\");\n",
              "        requirejs.config({\n",
              "            paths: {\n",
              "                'plotly': ['https://cdn.plot.ly/plotly-2.8.3.min']\n",
              "            }\n",
              "        });\n",
              "        require(['plotly'], function(Plotly) {\n",
              "            window._Plotly = Plotly;\n",
              "        });\n",
              "        }\n",
              "        </script>\n",
              "        "
            ]
          },
          "metadata": {}
        }
      ]
    },
    {
      "cell_type": "markdown",
      "source": [
        "# Task 3: Load the Data"
      ],
      "metadata": {
        "id": "ka9XmDLdpMX6"
      }
    },
    {
      "cell_type": "code",
      "source": [
        "diabetes_ds = pd.read_csv('https://raw.githubusercontent.com/Silver272/ML-Data/main/diabetic_data.csv')"
      ],
      "metadata": {
        "id": "Pv44L0QTzG8r"
      },
      "execution_count": 2,
      "outputs": []
    },
    {
      "cell_type": "markdown",
      "source": [
        "# Task 4: EDA (Exploratory Data Analysis)"
      ],
      "metadata": {
        "id": "yUlXpcxYpQQi"
      }
    },
    {
      "cell_type": "code",
      "source": [
        "diabetes_ds.head()"
      ],
      "metadata": {
        "id": "e2T4J6Ye1CZQ",
        "colab": {
          "base_uri": "https://localhost:8080/",
          "height": 317
        },
        "outputId": "75ce05ce-8c41-4a30-b79b-e346fffe7629"
      },
      "execution_count": 3,
      "outputs": [
        {
          "output_type": "execute_result",
          "data": {
            "text/plain": [
              "   encounter_id  patient_nbr             race  gender      age weight  \\\n",
              "0       2278392      8222157        Caucasian  Female   [0-10)      ?   \n",
              "1        149190     55629189        Caucasian  Female  [10-20)      ?   \n",
              "2         64410     86047875  AfricanAmerican  Female  [20-30)      ?   \n",
              "3        500364     82442376        Caucasian    Male  [30-40)      ?   \n",
              "4         16680     42519267        Caucasian    Male  [40-50)      ?   \n",
              "\n",
              "   admission_type_id  discharge_disposition_id  admission_source_id  \\\n",
              "0                  6                        25                    1   \n",
              "1                  1                         1                    7   \n",
              "2                  1                         1                    7   \n",
              "3                  1                         1                    7   \n",
              "4                  1                         1                    7   \n",
              "\n",
              "   time_in_hospital  ... citoglipton insulin  glyburide-metformin  \\\n",
              "0                 1  ...          No      No                   No   \n",
              "1                 3  ...          No      Up                   No   \n",
              "2                 2  ...          No      No                   No   \n",
              "3                 2  ...          No      Up                   No   \n",
              "4                 1  ...          No  Steady                   No   \n",
              "\n",
              "   glipizide-metformin  glimepiride-pioglitazone  metformin-rosiglitazone  \\\n",
              "0                   No                        No                       No   \n",
              "1                   No                        No                       No   \n",
              "2                   No                        No                       No   \n",
              "3                   No                        No                       No   \n",
              "4                   No                        No                       No   \n",
              "\n",
              "   metformin-pioglitazone  change diabetesMed readmitted  \n",
              "0                      No      No          No         NO  \n",
              "1                      No      Ch         Yes        >30  \n",
              "2                      No      No         Yes         NO  \n",
              "3                      No      Ch         Yes         NO  \n",
              "4                      No      Ch         Yes         NO  \n",
              "\n",
              "[5 rows x 50 columns]"
            ],
            "text/html": [
              "\n",
              "  <div id=\"df-0e1fdb86-4d21-4b68-aa99-eb7fb70e311b\">\n",
              "    <div class=\"colab-df-container\">\n",
              "      <div>\n",
              "<style scoped>\n",
              "    .dataframe tbody tr th:only-of-type {\n",
              "        vertical-align: middle;\n",
              "    }\n",
              "\n",
              "    .dataframe tbody tr th {\n",
              "        vertical-align: top;\n",
              "    }\n",
              "\n",
              "    .dataframe thead th {\n",
              "        text-align: right;\n",
              "    }\n",
              "</style>\n",
              "<table border=\"1\" class=\"dataframe\">\n",
              "  <thead>\n",
              "    <tr style=\"text-align: right;\">\n",
              "      <th></th>\n",
              "      <th>encounter_id</th>\n",
              "      <th>patient_nbr</th>\n",
              "      <th>race</th>\n",
              "      <th>gender</th>\n",
              "      <th>age</th>\n",
              "      <th>weight</th>\n",
              "      <th>admission_type_id</th>\n",
              "      <th>discharge_disposition_id</th>\n",
              "      <th>admission_source_id</th>\n",
              "      <th>time_in_hospital</th>\n",
              "      <th>...</th>\n",
              "      <th>citoglipton</th>\n",
              "      <th>insulin</th>\n",
              "      <th>glyburide-metformin</th>\n",
              "      <th>glipizide-metformin</th>\n",
              "      <th>glimepiride-pioglitazone</th>\n",
              "      <th>metformin-rosiglitazone</th>\n",
              "      <th>metformin-pioglitazone</th>\n",
              "      <th>change</th>\n",
              "      <th>diabetesMed</th>\n",
              "      <th>readmitted</th>\n",
              "    </tr>\n",
              "  </thead>\n",
              "  <tbody>\n",
              "    <tr>\n",
              "      <th>0</th>\n",
              "      <td>2278392</td>\n",
              "      <td>8222157</td>\n",
              "      <td>Caucasian</td>\n",
              "      <td>Female</td>\n",
              "      <td>[0-10)</td>\n",
              "      <td>?</td>\n",
              "      <td>6</td>\n",
              "      <td>25</td>\n",
              "      <td>1</td>\n",
              "      <td>1</td>\n",
              "      <td>...</td>\n",
              "      <td>No</td>\n",
              "      <td>No</td>\n",
              "      <td>No</td>\n",
              "      <td>No</td>\n",
              "      <td>No</td>\n",
              "      <td>No</td>\n",
              "      <td>No</td>\n",
              "      <td>No</td>\n",
              "      <td>No</td>\n",
              "      <td>NO</td>\n",
              "    </tr>\n",
              "    <tr>\n",
              "      <th>1</th>\n",
              "      <td>149190</td>\n",
              "      <td>55629189</td>\n",
              "      <td>Caucasian</td>\n",
              "      <td>Female</td>\n",
              "      <td>[10-20)</td>\n",
              "      <td>?</td>\n",
              "      <td>1</td>\n",
              "      <td>1</td>\n",
              "      <td>7</td>\n",
              "      <td>3</td>\n",
              "      <td>...</td>\n",
              "      <td>No</td>\n",
              "      <td>Up</td>\n",
              "      <td>No</td>\n",
              "      <td>No</td>\n",
              "      <td>No</td>\n",
              "      <td>No</td>\n",
              "      <td>No</td>\n",
              "      <td>Ch</td>\n",
              "      <td>Yes</td>\n",
              "      <td>&gt;30</td>\n",
              "    </tr>\n",
              "    <tr>\n",
              "      <th>2</th>\n",
              "      <td>64410</td>\n",
              "      <td>86047875</td>\n",
              "      <td>AfricanAmerican</td>\n",
              "      <td>Female</td>\n",
              "      <td>[20-30)</td>\n",
              "      <td>?</td>\n",
              "      <td>1</td>\n",
              "      <td>1</td>\n",
              "      <td>7</td>\n",
              "      <td>2</td>\n",
              "      <td>...</td>\n",
              "      <td>No</td>\n",
              "      <td>No</td>\n",
              "      <td>No</td>\n",
              "      <td>No</td>\n",
              "      <td>No</td>\n",
              "      <td>No</td>\n",
              "      <td>No</td>\n",
              "      <td>No</td>\n",
              "      <td>Yes</td>\n",
              "      <td>NO</td>\n",
              "    </tr>\n",
              "    <tr>\n",
              "      <th>3</th>\n",
              "      <td>500364</td>\n",
              "      <td>82442376</td>\n",
              "      <td>Caucasian</td>\n",
              "      <td>Male</td>\n",
              "      <td>[30-40)</td>\n",
              "      <td>?</td>\n",
              "      <td>1</td>\n",
              "      <td>1</td>\n",
              "      <td>7</td>\n",
              "      <td>2</td>\n",
              "      <td>...</td>\n",
              "      <td>No</td>\n",
              "      <td>Up</td>\n",
              "      <td>No</td>\n",
              "      <td>No</td>\n",
              "      <td>No</td>\n",
              "      <td>No</td>\n",
              "      <td>No</td>\n",
              "      <td>Ch</td>\n",
              "      <td>Yes</td>\n",
              "      <td>NO</td>\n",
              "    </tr>\n",
              "    <tr>\n",
              "      <th>4</th>\n",
              "      <td>16680</td>\n",
              "      <td>42519267</td>\n",
              "      <td>Caucasian</td>\n",
              "      <td>Male</td>\n",
              "      <td>[40-50)</td>\n",
              "      <td>?</td>\n",
              "      <td>1</td>\n",
              "      <td>1</td>\n",
              "      <td>7</td>\n",
              "      <td>1</td>\n",
              "      <td>...</td>\n",
              "      <td>No</td>\n",
              "      <td>Steady</td>\n",
              "      <td>No</td>\n",
              "      <td>No</td>\n",
              "      <td>No</td>\n",
              "      <td>No</td>\n",
              "      <td>No</td>\n",
              "      <td>Ch</td>\n",
              "      <td>Yes</td>\n",
              "      <td>NO</td>\n",
              "    </tr>\n",
              "  </tbody>\n",
              "</table>\n",
              "<p>5 rows × 50 columns</p>\n",
              "</div>\n",
              "      <button class=\"colab-df-convert\" onclick=\"convertToInteractive('df-0e1fdb86-4d21-4b68-aa99-eb7fb70e311b')\"\n",
              "              title=\"Convert this dataframe to an interactive table.\"\n",
              "              style=\"display:none;\">\n",
              "        \n",
              "  <svg xmlns=\"http://www.w3.org/2000/svg\" height=\"24px\"viewBox=\"0 0 24 24\"\n",
              "       width=\"24px\">\n",
              "    <path d=\"M0 0h24v24H0V0z\" fill=\"none\"/>\n",
              "    <path d=\"M18.56 5.44l.94 2.06.94-2.06 2.06-.94-2.06-.94-.94-2.06-.94 2.06-2.06.94zm-11 1L8.5 8.5l.94-2.06 2.06-.94-2.06-.94L8.5 2.5l-.94 2.06-2.06.94zm10 10l.94 2.06.94-2.06 2.06-.94-2.06-.94-.94-2.06-.94 2.06-2.06.94z\"/><path d=\"M17.41 7.96l-1.37-1.37c-.4-.4-.92-.59-1.43-.59-.52 0-1.04.2-1.43.59L10.3 9.45l-7.72 7.72c-.78.78-.78 2.05 0 2.83L4 21.41c.39.39.9.59 1.41.59.51 0 1.02-.2 1.41-.59l7.78-7.78 2.81-2.81c.8-.78.8-2.07 0-2.86zM5.41 20L4 18.59l7.72-7.72 1.47 1.35L5.41 20z\"/>\n",
              "  </svg>\n",
              "      </button>\n",
              "      \n",
              "  <style>\n",
              "    .colab-df-container {\n",
              "      display:flex;\n",
              "      flex-wrap:wrap;\n",
              "      gap: 12px;\n",
              "    }\n",
              "\n",
              "    .colab-df-convert {\n",
              "      background-color: #E8F0FE;\n",
              "      border: none;\n",
              "      border-radius: 50%;\n",
              "      cursor: pointer;\n",
              "      display: none;\n",
              "      fill: #1967D2;\n",
              "      height: 32px;\n",
              "      padding: 0 0 0 0;\n",
              "      width: 32px;\n",
              "    }\n",
              "\n",
              "    .colab-df-convert:hover {\n",
              "      background-color: #E2EBFA;\n",
              "      box-shadow: 0px 1px 2px rgba(60, 64, 67, 0.3), 0px 1px 3px 1px rgba(60, 64, 67, 0.15);\n",
              "      fill: #174EA6;\n",
              "    }\n",
              "\n",
              "    [theme=dark] .colab-df-convert {\n",
              "      background-color: #3B4455;\n",
              "      fill: #D2E3FC;\n",
              "    }\n",
              "\n",
              "    [theme=dark] .colab-df-convert:hover {\n",
              "      background-color: #434B5C;\n",
              "      box-shadow: 0px 1px 3px 1px rgba(0, 0, 0, 0.15);\n",
              "      filter: drop-shadow(0px 1px 2px rgba(0, 0, 0, 0.3));\n",
              "      fill: #FFFFFF;\n",
              "    }\n",
              "  </style>\n",
              "\n",
              "      <script>\n",
              "        const buttonEl =\n",
              "          document.querySelector('#df-0e1fdb86-4d21-4b68-aa99-eb7fb70e311b button.colab-df-convert');\n",
              "        buttonEl.style.display =\n",
              "          google.colab.kernel.accessAllowed ? 'block' : 'none';\n",
              "\n",
              "        async function convertToInteractive(key) {\n",
              "          const element = document.querySelector('#df-0e1fdb86-4d21-4b68-aa99-eb7fb70e311b');\n",
              "          const dataTable =\n",
              "            await google.colab.kernel.invokeFunction('convertToInteractive',\n",
              "                                                     [key], {});\n",
              "          if (!dataTable) return;\n",
              "\n",
              "          const docLinkHtml = 'Like what you see? Visit the ' +\n",
              "            '<a target=\"_blank\" href=https://colab.research.google.com/notebooks/data_table.ipynb>data table notebook</a>'\n",
              "            + ' to learn more about interactive tables.';\n",
              "          element.innerHTML = '';\n",
              "          dataTable['output_type'] = 'display_data';\n",
              "          await google.colab.output.renderOutput(dataTable, element);\n",
              "          const docLink = document.createElement('div');\n",
              "          docLink.innerHTML = docLinkHtml;\n",
              "          element.appendChild(docLink);\n",
              "        }\n",
              "      </script>\n",
              "    </div>\n",
              "  </div>\n",
              "  "
            ]
          },
          "metadata": {},
          "execution_count": 3
        }
      ]
    },
    {
      "cell_type": "code",
      "source": [
        "list(diabetes_ds)"
      ],
      "metadata": {
        "colab": {
          "base_uri": "https://localhost:8080/"
        },
        "id": "ImX8WAWjm87l",
        "outputId": "453a25e1-d9cd-4cb4-a33f-4cc557622862"
      },
      "execution_count": 4,
      "outputs": [
        {
          "output_type": "execute_result",
          "data": {
            "text/plain": [
              "['encounter_id',\n",
              " 'patient_nbr',\n",
              " 'race',\n",
              " 'gender',\n",
              " 'age',\n",
              " 'weight',\n",
              " 'admission_type_id',\n",
              " 'discharge_disposition_id',\n",
              " 'admission_source_id',\n",
              " 'time_in_hospital',\n",
              " 'payer_code',\n",
              " 'medical_specialty',\n",
              " 'num_lab_procedures',\n",
              " 'num_procedures',\n",
              " 'num_medications',\n",
              " 'number_outpatient',\n",
              " 'number_emergency',\n",
              " 'number_inpatient',\n",
              " 'diag_1',\n",
              " 'diag_2',\n",
              " 'diag_3',\n",
              " 'number_diagnoses',\n",
              " 'max_glu_serum',\n",
              " 'A1Cresult',\n",
              " 'metformin',\n",
              " 'repaglinide',\n",
              " 'nateglinide',\n",
              " 'chlorpropamide',\n",
              " 'glimepiride',\n",
              " 'acetohexamide',\n",
              " 'glipizide',\n",
              " 'glyburide',\n",
              " 'tolbutamide',\n",
              " 'pioglitazone',\n",
              " 'rosiglitazone',\n",
              " 'acarbose',\n",
              " 'miglitol',\n",
              " 'troglitazone',\n",
              " 'tolazamide',\n",
              " 'examide',\n",
              " 'citoglipton',\n",
              " 'insulin',\n",
              " 'glyburide-metformin',\n",
              " 'glipizide-metformin',\n",
              " 'glimepiride-pioglitazone',\n",
              " 'metformin-rosiglitazone',\n",
              " 'metformin-pioglitazone',\n",
              " 'change',\n",
              " 'diabetesMed',\n",
              " 'readmitted']"
            ]
          },
          "metadata": {},
          "execution_count": 4
        }
      ]
    },
    {
      "cell_type": "code",
      "source": [
        "diabetes_ds.info()"
      ],
      "metadata": {
        "colab": {
          "base_uri": "https://localhost:8080/"
        },
        "id": "uxvhymA2nKZn",
        "outputId": "c090fbf3-ad73-44fa-d93e-e18b8d17c8f2"
      },
      "execution_count": 5,
      "outputs": [
        {
          "output_type": "stream",
          "name": "stdout",
          "text": [
            "<class 'pandas.core.frame.DataFrame'>\n",
            "RangeIndex: 101766 entries, 0 to 101765\n",
            "Data columns (total 50 columns):\n",
            " #   Column                    Non-Null Count   Dtype \n",
            "---  ------                    --------------   ----- \n",
            " 0   encounter_id              101766 non-null  int64 \n",
            " 1   patient_nbr               101766 non-null  int64 \n",
            " 2   race                      101766 non-null  object\n",
            " 3   gender                    101766 non-null  object\n",
            " 4   age                       101766 non-null  object\n",
            " 5   weight                    101766 non-null  object\n",
            " 6   admission_type_id         101766 non-null  int64 \n",
            " 7   discharge_disposition_id  101766 non-null  int64 \n",
            " 8   admission_source_id       101766 non-null  int64 \n",
            " 9   time_in_hospital          101766 non-null  int64 \n",
            " 10  payer_code                101766 non-null  object\n",
            " 11  medical_specialty         101766 non-null  object\n",
            " 12  num_lab_procedures        101766 non-null  int64 \n",
            " 13  num_procedures            101766 non-null  int64 \n",
            " 14  num_medications           101766 non-null  int64 \n",
            " 15  number_outpatient         101766 non-null  int64 \n",
            " 16  number_emergency          101766 non-null  int64 \n",
            " 17  number_inpatient          101766 non-null  int64 \n",
            " 18  diag_1                    101766 non-null  object\n",
            " 19  diag_2                    101766 non-null  object\n",
            " 20  diag_3                    101766 non-null  object\n",
            " 21  number_diagnoses          101766 non-null  int64 \n",
            " 22  max_glu_serum             101766 non-null  object\n",
            " 23  A1Cresult                 101766 non-null  object\n",
            " 24  metformin                 101766 non-null  object\n",
            " 25  repaglinide               101766 non-null  object\n",
            " 26  nateglinide               101766 non-null  object\n",
            " 27  chlorpropamide            101766 non-null  object\n",
            " 28  glimepiride               101766 non-null  object\n",
            " 29  acetohexamide             101766 non-null  object\n",
            " 30  glipizide                 101766 non-null  object\n",
            " 31  glyburide                 101766 non-null  object\n",
            " 32  tolbutamide               101766 non-null  object\n",
            " 33  pioglitazone              101766 non-null  object\n",
            " 34  rosiglitazone             101766 non-null  object\n",
            " 35  acarbose                  101766 non-null  object\n",
            " 36  miglitol                  101766 non-null  object\n",
            " 37  troglitazone              101766 non-null  object\n",
            " 38  tolazamide                101766 non-null  object\n",
            " 39  examide                   101766 non-null  object\n",
            " 40  citoglipton               101766 non-null  object\n",
            " 41  insulin                   101766 non-null  object\n",
            " 42  glyburide-metformin       101766 non-null  object\n",
            " 43  glipizide-metformin       101766 non-null  object\n",
            " 44  glimepiride-pioglitazone  101766 non-null  object\n",
            " 45  metformin-rosiglitazone   101766 non-null  object\n",
            " 46  metformin-pioglitazone    101766 non-null  object\n",
            " 47  change                    101766 non-null  object\n",
            " 48  diabetesMed               101766 non-null  object\n",
            " 49  readmitted                101766 non-null  object\n",
            "dtypes: int64(13), object(37)\n",
            "memory usage: 38.8+ MB\n"
          ]
        }
      ]
    },
    {
      "cell_type": "code",
      "source": [
        "diabetes_ds.isnull()"
      ],
      "metadata": {
        "colab": {
          "base_uri": "https://localhost:8080/",
          "height": 505
        },
        "id": "v0O92PX1n2O5",
        "outputId": "0aec26a7-8889-4523-96ef-5943d14a69cb"
      },
      "execution_count": 6,
      "outputs": [
        {
          "output_type": "execute_result",
          "data": {
            "text/plain": [
              "        encounter_id  patient_nbr   race  gender    age  weight  \\\n",
              "0              False        False  False   False  False   False   \n",
              "1              False        False  False   False  False   False   \n",
              "2              False        False  False   False  False   False   \n",
              "3              False        False  False   False  False   False   \n",
              "4              False        False  False   False  False   False   \n",
              "...              ...          ...    ...     ...    ...     ...   \n",
              "101761         False        False  False   False  False   False   \n",
              "101762         False        False  False   False  False   False   \n",
              "101763         False        False  False   False  False   False   \n",
              "101764         False        False  False   False  False   False   \n",
              "101765         False        False  False   False  False   False   \n",
              "\n",
              "        admission_type_id  discharge_disposition_id  admission_source_id  \\\n",
              "0                   False                     False                False   \n",
              "1                   False                     False                False   \n",
              "2                   False                     False                False   \n",
              "3                   False                     False                False   \n",
              "4                   False                     False                False   \n",
              "...                   ...                       ...                  ...   \n",
              "101761              False                     False                False   \n",
              "101762              False                     False                False   \n",
              "101763              False                     False                False   \n",
              "101764              False                     False                False   \n",
              "101765              False                     False                False   \n",
              "\n",
              "        time_in_hospital  ...  citoglipton  insulin  glyburide-metformin  \\\n",
              "0                  False  ...        False    False                False   \n",
              "1                  False  ...        False    False                False   \n",
              "2                  False  ...        False    False                False   \n",
              "3                  False  ...        False    False                False   \n",
              "4                  False  ...        False    False                False   \n",
              "...                  ...  ...          ...      ...                  ...   \n",
              "101761             False  ...        False    False                False   \n",
              "101762             False  ...        False    False                False   \n",
              "101763             False  ...        False    False                False   \n",
              "101764             False  ...        False    False                False   \n",
              "101765             False  ...        False    False                False   \n",
              "\n",
              "        glipizide-metformin  glimepiride-pioglitazone  \\\n",
              "0                     False                     False   \n",
              "1                     False                     False   \n",
              "2                     False                     False   \n",
              "3                     False                     False   \n",
              "4                     False                     False   \n",
              "...                     ...                       ...   \n",
              "101761                False                     False   \n",
              "101762                False                     False   \n",
              "101763                False                     False   \n",
              "101764                False                     False   \n",
              "101765                False                     False   \n",
              "\n",
              "        metformin-rosiglitazone  metformin-pioglitazone  change  diabetesMed  \\\n",
              "0                         False                   False   False        False   \n",
              "1                         False                   False   False        False   \n",
              "2                         False                   False   False        False   \n",
              "3                         False                   False   False        False   \n",
              "4                         False                   False   False        False   \n",
              "...                         ...                     ...     ...          ...   \n",
              "101761                    False                   False   False        False   \n",
              "101762                    False                   False   False        False   \n",
              "101763                    False                   False   False        False   \n",
              "101764                    False                   False   False        False   \n",
              "101765                    False                   False   False        False   \n",
              "\n",
              "        readmitted  \n",
              "0            False  \n",
              "1            False  \n",
              "2            False  \n",
              "3            False  \n",
              "4            False  \n",
              "...            ...  \n",
              "101761       False  \n",
              "101762       False  \n",
              "101763       False  \n",
              "101764       False  \n",
              "101765       False  \n",
              "\n",
              "[101766 rows x 50 columns]"
            ],
            "text/html": [
              "\n",
              "  <div id=\"df-b23d5535-ea08-484e-a48a-3ce0b11056fd\">\n",
              "    <div class=\"colab-df-container\">\n",
              "      <div>\n",
              "<style scoped>\n",
              "    .dataframe tbody tr th:only-of-type {\n",
              "        vertical-align: middle;\n",
              "    }\n",
              "\n",
              "    .dataframe tbody tr th {\n",
              "        vertical-align: top;\n",
              "    }\n",
              "\n",
              "    .dataframe thead th {\n",
              "        text-align: right;\n",
              "    }\n",
              "</style>\n",
              "<table border=\"1\" class=\"dataframe\">\n",
              "  <thead>\n",
              "    <tr style=\"text-align: right;\">\n",
              "      <th></th>\n",
              "      <th>encounter_id</th>\n",
              "      <th>patient_nbr</th>\n",
              "      <th>race</th>\n",
              "      <th>gender</th>\n",
              "      <th>age</th>\n",
              "      <th>weight</th>\n",
              "      <th>admission_type_id</th>\n",
              "      <th>discharge_disposition_id</th>\n",
              "      <th>admission_source_id</th>\n",
              "      <th>time_in_hospital</th>\n",
              "      <th>...</th>\n",
              "      <th>citoglipton</th>\n",
              "      <th>insulin</th>\n",
              "      <th>glyburide-metformin</th>\n",
              "      <th>glipizide-metformin</th>\n",
              "      <th>glimepiride-pioglitazone</th>\n",
              "      <th>metformin-rosiglitazone</th>\n",
              "      <th>metformin-pioglitazone</th>\n",
              "      <th>change</th>\n",
              "      <th>diabetesMed</th>\n",
              "      <th>readmitted</th>\n",
              "    </tr>\n",
              "  </thead>\n",
              "  <tbody>\n",
              "    <tr>\n",
              "      <th>0</th>\n",
              "      <td>False</td>\n",
              "      <td>False</td>\n",
              "      <td>False</td>\n",
              "      <td>False</td>\n",
              "      <td>False</td>\n",
              "      <td>False</td>\n",
              "      <td>False</td>\n",
              "      <td>False</td>\n",
              "      <td>False</td>\n",
              "      <td>False</td>\n",
              "      <td>...</td>\n",
              "      <td>False</td>\n",
              "      <td>False</td>\n",
              "      <td>False</td>\n",
              "      <td>False</td>\n",
              "      <td>False</td>\n",
              "      <td>False</td>\n",
              "      <td>False</td>\n",
              "      <td>False</td>\n",
              "      <td>False</td>\n",
              "      <td>False</td>\n",
              "    </tr>\n",
              "    <tr>\n",
              "      <th>1</th>\n",
              "      <td>False</td>\n",
              "      <td>False</td>\n",
              "      <td>False</td>\n",
              "      <td>False</td>\n",
              "      <td>False</td>\n",
              "      <td>False</td>\n",
              "      <td>False</td>\n",
              "      <td>False</td>\n",
              "      <td>False</td>\n",
              "      <td>False</td>\n",
              "      <td>...</td>\n",
              "      <td>False</td>\n",
              "      <td>False</td>\n",
              "      <td>False</td>\n",
              "      <td>False</td>\n",
              "      <td>False</td>\n",
              "      <td>False</td>\n",
              "      <td>False</td>\n",
              "      <td>False</td>\n",
              "      <td>False</td>\n",
              "      <td>False</td>\n",
              "    </tr>\n",
              "    <tr>\n",
              "      <th>2</th>\n",
              "      <td>False</td>\n",
              "      <td>False</td>\n",
              "      <td>False</td>\n",
              "      <td>False</td>\n",
              "      <td>False</td>\n",
              "      <td>False</td>\n",
              "      <td>False</td>\n",
              "      <td>False</td>\n",
              "      <td>False</td>\n",
              "      <td>False</td>\n",
              "      <td>...</td>\n",
              "      <td>False</td>\n",
              "      <td>False</td>\n",
              "      <td>False</td>\n",
              "      <td>False</td>\n",
              "      <td>False</td>\n",
              "      <td>False</td>\n",
              "      <td>False</td>\n",
              "      <td>False</td>\n",
              "      <td>False</td>\n",
              "      <td>False</td>\n",
              "    </tr>\n",
              "    <tr>\n",
              "      <th>3</th>\n",
              "      <td>False</td>\n",
              "      <td>False</td>\n",
              "      <td>False</td>\n",
              "      <td>False</td>\n",
              "      <td>False</td>\n",
              "      <td>False</td>\n",
              "      <td>False</td>\n",
              "      <td>False</td>\n",
              "      <td>False</td>\n",
              "      <td>False</td>\n",
              "      <td>...</td>\n",
              "      <td>False</td>\n",
              "      <td>False</td>\n",
              "      <td>False</td>\n",
              "      <td>False</td>\n",
              "      <td>False</td>\n",
              "      <td>False</td>\n",
              "      <td>False</td>\n",
              "      <td>False</td>\n",
              "      <td>False</td>\n",
              "      <td>False</td>\n",
              "    </tr>\n",
              "    <tr>\n",
              "      <th>4</th>\n",
              "      <td>False</td>\n",
              "      <td>False</td>\n",
              "      <td>False</td>\n",
              "      <td>False</td>\n",
              "      <td>False</td>\n",
              "      <td>False</td>\n",
              "      <td>False</td>\n",
              "      <td>False</td>\n",
              "      <td>False</td>\n",
              "      <td>False</td>\n",
              "      <td>...</td>\n",
              "      <td>False</td>\n",
              "      <td>False</td>\n",
              "      <td>False</td>\n",
              "      <td>False</td>\n",
              "      <td>False</td>\n",
              "      <td>False</td>\n",
              "      <td>False</td>\n",
              "      <td>False</td>\n",
              "      <td>False</td>\n",
              "      <td>False</td>\n",
              "    </tr>\n",
              "    <tr>\n",
              "      <th>...</th>\n",
              "      <td>...</td>\n",
              "      <td>...</td>\n",
              "      <td>...</td>\n",
              "      <td>...</td>\n",
              "      <td>...</td>\n",
              "      <td>...</td>\n",
              "      <td>...</td>\n",
              "      <td>...</td>\n",
              "      <td>...</td>\n",
              "      <td>...</td>\n",
              "      <td>...</td>\n",
              "      <td>...</td>\n",
              "      <td>...</td>\n",
              "      <td>...</td>\n",
              "      <td>...</td>\n",
              "      <td>...</td>\n",
              "      <td>...</td>\n",
              "      <td>...</td>\n",
              "      <td>...</td>\n",
              "      <td>...</td>\n",
              "      <td>...</td>\n",
              "    </tr>\n",
              "    <tr>\n",
              "      <th>101761</th>\n",
              "      <td>False</td>\n",
              "      <td>False</td>\n",
              "      <td>False</td>\n",
              "      <td>False</td>\n",
              "      <td>False</td>\n",
              "      <td>False</td>\n",
              "      <td>False</td>\n",
              "      <td>False</td>\n",
              "      <td>False</td>\n",
              "      <td>False</td>\n",
              "      <td>...</td>\n",
              "      <td>False</td>\n",
              "      <td>False</td>\n",
              "      <td>False</td>\n",
              "      <td>False</td>\n",
              "      <td>False</td>\n",
              "      <td>False</td>\n",
              "      <td>False</td>\n",
              "      <td>False</td>\n",
              "      <td>False</td>\n",
              "      <td>False</td>\n",
              "    </tr>\n",
              "    <tr>\n",
              "      <th>101762</th>\n",
              "      <td>False</td>\n",
              "      <td>False</td>\n",
              "      <td>False</td>\n",
              "      <td>False</td>\n",
              "      <td>False</td>\n",
              "      <td>False</td>\n",
              "      <td>False</td>\n",
              "      <td>False</td>\n",
              "      <td>False</td>\n",
              "      <td>False</td>\n",
              "      <td>...</td>\n",
              "      <td>False</td>\n",
              "      <td>False</td>\n",
              "      <td>False</td>\n",
              "      <td>False</td>\n",
              "      <td>False</td>\n",
              "      <td>False</td>\n",
              "      <td>False</td>\n",
              "      <td>False</td>\n",
              "      <td>False</td>\n",
              "      <td>False</td>\n",
              "    </tr>\n",
              "    <tr>\n",
              "      <th>101763</th>\n",
              "      <td>False</td>\n",
              "      <td>False</td>\n",
              "      <td>False</td>\n",
              "      <td>False</td>\n",
              "      <td>False</td>\n",
              "      <td>False</td>\n",
              "      <td>False</td>\n",
              "      <td>False</td>\n",
              "      <td>False</td>\n",
              "      <td>False</td>\n",
              "      <td>...</td>\n",
              "      <td>False</td>\n",
              "      <td>False</td>\n",
              "      <td>False</td>\n",
              "      <td>False</td>\n",
              "      <td>False</td>\n",
              "      <td>False</td>\n",
              "      <td>False</td>\n",
              "      <td>False</td>\n",
              "      <td>False</td>\n",
              "      <td>False</td>\n",
              "    </tr>\n",
              "    <tr>\n",
              "      <th>101764</th>\n",
              "      <td>False</td>\n",
              "      <td>False</td>\n",
              "      <td>False</td>\n",
              "      <td>False</td>\n",
              "      <td>False</td>\n",
              "      <td>False</td>\n",
              "      <td>False</td>\n",
              "      <td>False</td>\n",
              "      <td>False</td>\n",
              "      <td>False</td>\n",
              "      <td>...</td>\n",
              "      <td>False</td>\n",
              "      <td>False</td>\n",
              "      <td>False</td>\n",
              "      <td>False</td>\n",
              "      <td>False</td>\n",
              "      <td>False</td>\n",
              "      <td>False</td>\n",
              "      <td>False</td>\n",
              "      <td>False</td>\n",
              "      <td>False</td>\n",
              "    </tr>\n",
              "    <tr>\n",
              "      <th>101765</th>\n",
              "      <td>False</td>\n",
              "      <td>False</td>\n",
              "      <td>False</td>\n",
              "      <td>False</td>\n",
              "      <td>False</td>\n",
              "      <td>False</td>\n",
              "      <td>False</td>\n",
              "      <td>False</td>\n",
              "      <td>False</td>\n",
              "      <td>False</td>\n",
              "      <td>...</td>\n",
              "      <td>False</td>\n",
              "      <td>False</td>\n",
              "      <td>False</td>\n",
              "      <td>False</td>\n",
              "      <td>False</td>\n",
              "      <td>False</td>\n",
              "      <td>False</td>\n",
              "      <td>False</td>\n",
              "      <td>False</td>\n",
              "      <td>False</td>\n",
              "    </tr>\n",
              "  </tbody>\n",
              "</table>\n",
              "<p>101766 rows × 50 columns</p>\n",
              "</div>\n",
              "      <button class=\"colab-df-convert\" onclick=\"convertToInteractive('df-b23d5535-ea08-484e-a48a-3ce0b11056fd')\"\n",
              "              title=\"Convert this dataframe to an interactive table.\"\n",
              "              style=\"display:none;\">\n",
              "        \n",
              "  <svg xmlns=\"http://www.w3.org/2000/svg\" height=\"24px\"viewBox=\"0 0 24 24\"\n",
              "       width=\"24px\">\n",
              "    <path d=\"M0 0h24v24H0V0z\" fill=\"none\"/>\n",
              "    <path d=\"M18.56 5.44l.94 2.06.94-2.06 2.06-.94-2.06-.94-.94-2.06-.94 2.06-2.06.94zm-11 1L8.5 8.5l.94-2.06 2.06-.94-2.06-.94L8.5 2.5l-.94 2.06-2.06.94zm10 10l.94 2.06.94-2.06 2.06-.94-2.06-.94-.94-2.06-.94 2.06-2.06.94z\"/><path d=\"M17.41 7.96l-1.37-1.37c-.4-.4-.92-.59-1.43-.59-.52 0-1.04.2-1.43.59L10.3 9.45l-7.72 7.72c-.78.78-.78 2.05 0 2.83L4 21.41c.39.39.9.59 1.41.59.51 0 1.02-.2 1.41-.59l7.78-7.78 2.81-2.81c.8-.78.8-2.07 0-2.86zM5.41 20L4 18.59l7.72-7.72 1.47 1.35L5.41 20z\"/>\n",
              "  </svg>\n",
              "      </button>\n",
              "      \n",
              "  <style>\n",
              "    .colab-df-container {\n",
              "      display:flex;\n",
              "      flex-wrap:wrap;\n",
              "      gap: 12px;\n",
              "    }\n",
              "\n",
              "    .colab-df-convert {\n",
              "      background-color: #E8F0FE;\n",
              "      border: none;\n",
              "      border-radius: 50%;\n",
              "      cursor: pointer;\n",
              "      display: none;\n",
              "      fill: #1967D2;\n",
              "      height: 32px;\n",
              "      padding: 0 0 0 0;\n",
              "      width: 32px;\n",
              "    }\n",
              "\n",
              "    .colab-df-convert:hover {\n",
              "      background-color: #E2EBFA;\n",
              "      box-shadow: 0px 1px 2px rgba(60, 64, 67, 0.3), 0px 1px 3px 1px rgba(60, 64, 67, 0.15);\n",
              "      fill: #174EA6;\n",
              "    }\n",
              "\n",
              "    [theme=dark] .colab-df-convert {\n",
              "      background-color: #3B4455;\n",
              "      fill: #D2E3FC;\n",
              "    }\n",
              "\n",
              "    [theme=dark] .colab-df-convert:hover {\n",
              "      background-color: #434B5C;\n",
              "      box-shadow: 0px 1px 3px 1px rgba(0, 0, 0, 0.15);\n",
              "      filter: drop-shadow(0px 1px 2px rgba(0, 0, 0, 0.3));\n",
              "      fill: #FFFFFF;\n",
              "    }\n",
              "  </style>\n",
              "\n",
              "      <script>\n",
              "        const buttonEl =\n",
              "          document.querySelector('#df-b23d5535-ea08-484e-a48a-3ce0b11056fd button.colab-df-convert');\n",
              "        buttonEl.style.display =\n",
              "          google.colab.kernel.accessAllowed ? 'block' : 'none';\n",
              "\n",
              "        async function convertToInteractive(key) {\n",
              "          const element = document.querySelector('#df-b23d5535-ea08-484e-a48a-3ce0b11056fd');\n",
              "          const dataTable =\n",
              "            await google.colab.kernel.invokeFunction('convertToInteractive',\n",
              "                                                     [key], {});\n",
              "          if (!dataTable) return;\n",
              "\n",
              "          const docLinkHtml = 'Like what you see? Visit the ' +\n",
              "            '<a target=\"_blank\" href=https://colab.research.google.com/notebooks/data_table.ipynb>data table notebook</a>'\n",
              "            + ' to learn more about interactive tables.';\n",
              "          element.innerHTML = '';\n",
              "          dataTable['output_type'] = 'display_data';\n",
              "          await google.colab.output.renderOutput(dataTable, element);\n",
              "          const docLink = document.createElement('div');\n",
              "          docLink.innerHTML = docLinkHtml;\n",
              "          element.appendChild(docLink);\n",
              "        }\n",
              "      </script>\n",
              "    </div>\n",
              "  </div>\n",
              "  "
            ]
          },
          "metadata": {},
          "execution_count": 6
        }
      ]
    },
    {
      "cell_type": "code",
      "source": [
        "diabetes_ds.isnull().value_counts()"
      ],
      "metadata": {
        "colab": {
          "base_uri": "https://localhost:8080/"
        },
        "id": "TSeKyfO-obbb",
        "outputId": "81893f1c-bf6c-4332-b8eb-8e3525ffce55"
      },
      "execution_count": 7,
      "outputs": [
        {
          "output_type": "execute_result",
          "data": {
            "text/plain": [
              "encounter_id  patient_nbr  race   gender  age    weight  admission_type_id  discharge_disposition_id  admission_source_id  time_in_hospital  payer_code  medical_specialty  num_lab_procedures  num_procedures  num_medications  number_outpatient  number_emergency  number_inpatient  diag_1  diag_2  diag_3  number_diagnoses  max_glu_serum  A1Cresult  metformin  repaglinide  nateglinide  chlorpropamide  glimepiride  acetohexamide  glipizide  glyburide  tolbutamide  pioglitazone  rosiglitazone  acarbose  miglitol  troglitazone  tolazamide  examide  citoglipton  insulin  glyburide-metformin  glipizide-metformin  glimepiride-pioglitazone  metformin-rosiglitazone  metformin-pioglitazone  change  diabetesMed  readmitted\n",
              "False         False        False  False   False  False   False              False                     False                False             False       False              False               False           False            False              False             False             False   False   False   False             False          False      False      False        False        False           False        False          False      False      False        False         False          False     False     False         False       False    False        False    False                False                False                     False                    False                   False   False        False         101766\n",
              "dtype: int64"
            ]
          },
          "metadata": {},
          "execution_count": 7
        }
      ]
    },
    {
      "cell_type": "code",
      "source": [
        "diabetes_ds.describe()"
      ],
      "metadata": {
        "colab": {
          "base_uri": "https://localhost:8080/",
          "height": 364
        },
        "id": "dI-A8SFxrL_2",
        "outputId": "7545b7ec-8901-4dc2-97e6-8498f33d9d2f"
      },
      "execution_count": 8,
      "outputs": [
        {
          "output_type": "execute_result",
          "data": {
            "text/plain": [
              "       encounter_id   patient_nbr  admission_type_id  \\\n",
              "count  1.017660e+05  1.017660e+05      101766.000000   \n",
              "mean   1.652016e+08  5.433040e+07           2.024006   \n",
              "std    1.026403e+08  3.869636e+07           1.445403   \n",
              "min    1.252200e+04  1.350000e+02           1.000000   \n",
              "25%    8.496119e+07  2.341322e+07           1.000000   \n",
              "50%    1.523890e+08  4.550514e+07           1.000000   \n",
              "75%    2.302709e+08  8.754595e+07           3.000000   \n",
              "max    4.438672e+08  1.895026e+08           8.000000   \n",
              "\n",
              "       discharge_disposition_id  admission_source_id  time_in_hospital  \\\n",
              "count             101766.000000        101766.000000     101766.000000   \n",
              "mean                   3.715642             5.754437          4.395987   \n",
              "std                    5.280166             4.064081          2.985108   \n",
              "min                    1.000000             1.000000          1.000000   \n",
              "25%                    1.000000             1.000000          2.000000   \n",
              "50%                    1.000000             7.000000          4.000000   \n",
              "75%                    4.000000             7.000000          6.000000   \n",
              "max                   28.000000            25.000000         14.000000   \n",
              "\n",
              "       num_lab_procedures  num_procedures  num_medications  number_outpatient  \\\n",
              "count       101766.000000   101766.000000    101766.000000      101766.000000   \n",
              "mean            43.095641        1.339730        16.021844           0.369357   \n",
              "std             19.674362        1.705807         8.127566           1.267265   \n",
              "min              1.000000        0.000000         1.000000           0.000000   \n",
              "25%             31.000000        0.000000        10.000000           0.000000   \n",
              "50%             44.000000        1.000000        15.000000           0.000000   \n",
              "75%             57.000000        2.000000        20.000000           0.000000   \n",
              "max            132.000000        6.000000        81.000000          42.000000   \n",
              "\n",
              "       number_emergency  number_inpatient  number_diagnoses  \n",
              "count     101766.000000     101766.000000     101766.000000  \n",
              "mean           0.197836          0.635566          7.422607  \n",
              "std            0.930472          1.262863          1.933600  \n",
              "min            0.000000          0.000000          1.000000  \n",
              "25%            0.000000          0.000000          6.000000  \n",
              "50%            0.000000          0.000000          8.000000  \n",
              "75%            0.000000          1.000000          9.000000  \n",
              "max           76.000000         21.000000         16.000000  "
            ],
            "text/html": [
              "\n",
              "  <div id=\"df-675fc1a5-aedb-472d-8ebd-570abc76e67a\">\n",
              "    <div class=\"colab-df-container\">\n",
              "      <div>\n",
              "<style scoped>\n",
              "    .dataframe tbody tr th:only-of-type {\n",
              "        vertical-align: middle;\n",
              "    }\n",
              "\n",
              "    .dataframe tbody tr th {\n",
              "        vertical-align: top;\n",
              "    }\n",
              "\n",
              "    .dataframe thead th {\n",
              "        text-align: right;\n",
              "    }\n",
              "</style>\n",
              "<table border=\"1\" class=\"dataframe\">\n",
              "  <thead>\n",
              "    <tr style=\"text-align: right;\">\n",
              "      <th></th>\n",
              "      <th>encounter_id</th>\n",
              "      <th>patient_nbr</th>\n",
              "      <th>admission_type_id</th>\n",
              "      <th>discharge_disposition_id</th>\n",
              "      <th>admission_source_id</th>\n",
              "      <th>time_in_hospital</th>\n",
              "      <th>num_lab_procedures</th>\n",
              "      <th>num_procedures</th>\n",
              "      <th>num_medications</th>\n",
              "      <th>number_outpatient</th>\n",
              "      <th>number_emergency</th>\n",
              "      <th>number_inpatient</th>\n",
              "      <th>number_diagnoses</th>\n",
              "    </tr>\n",
              "  </thead>\n",
              "  <tbody>\n",
              "    <tr>\n",
              "      <th>count</th>\n",
              "      <td>1.017660e+05</td>\n",
              "      <td>1.017660e+05</td>\n",
              "      <td>101766.000000</td>\n",
              "      <td>101766.000000</td>\n",
              "      <td>101766.000000</td>\n",
              "      <td>101766.000000</td>\n",
              "      <td>101766.000000</td>\n",
              "      <td>101766.000000</td>\n",
              "      <td>101766.000000</td>\n",
              "      <td>101766.000000</td>\n",
              "      <td>101766.000000</td>\n",
              "      <td>101766.000000</td>\n",
              "      <td>101766.000000</td>\n",
              "    </tr>\n",
              "    <tr>\n",
              "      <th>mean</th>\n",
              "      <td>1.652016e+08</td>\n",
              "      <td>5.433040e+07</td>\n",
              "      <td>2.024006</td>\n",
              "      <td>3.715642</td>\n",
              "      <td>5.754437</td>\n",
              "      <td>4.395987</td>\n",
              "      <td>43.095641</td>\n",
              "      <td>1.339730</td>\n",
              "      <td>16.021844</td>\n",
              "      <td>0.369357</td>\n",
              "      <td>0.197836</td>\n",
              "      <td>0.635566</td>\n",
              "      <td>7.422607</td>\n",
              "    </tr>\n",
              "    <tr>\n",
              "      <th>std</th>\n",
              "      <td>1.026403e+08</td>\n",
              "      <td>3.869636e+07</td>\n",
              "      <td>1.445403</td>\n",
              "      <td>5.280166</td>\n",
              "      <td>4.064081</td>\n",
              "      <td>2.985108</td>\n",
              "      <td>19.674362</td>\n",
              "      <td>1.705807</td>\n",
              "      <td>8.127566</td>\n",
              "      <td>1.267265</td>\n",
              "      <td>0.930472</td>\n",
              "      <td>1.262863</td>\n",
              "      <td>1.933600</td>\n",
              "    </tr>\n",
              "    <tr>\n",
              "      <th>min</th>\n",
              "      <td>1.252200e+04</td>\n",
              "      <td>1.350000e+02</td>\n",
              "      <td>1.000000</td>\n",
              "      <td>1.000000</td>\n",
              "      <td>1.000000</td>\n",
              "      <td>1.000000</td>\n",
              "      <td>1.000000</td>\n",
              "      <td>0.000000</td>\n",
              "      <td>1.000000</td>\n",
              "      <td>0.000000</td>\n",
              "      <td>0.000000</td>\n",
              "      <td>0.000000</td>\n",
              "      <td>1.000000</td>\n",
              "    </tr>\n",
              "    <tr>\n",
              "      <th>25%</th>\n",
              "      <td>8.496119e+07</td>\n",
              "      <td>2.341322e+07</td>\n",
              "      <td>1.000000</td>\n",
              "      <td>1.000000</td>\n",
              "      <td>1.000000</td>\n",
              "      <td>2.000000</td>\n",
              "      <td>31.000000</td>\n",
              "      <td>0.000000</td>\n",
              "      <td>10.000000</td>\n",
              "      <td>0.000000</td>\n",
              "      <td>0.000000</td>\n",
              "      <td>0.000000</td>\n",
              "      <td>6.000000</td>\n",
              "    </tr>\n",
              "    <tr>\n",
              "      <th>50%</th>\n",
              "      <td>1.523890e+08</td>\n",
              "      <td>4.550514e+07</td>\n",
              "      <td>1.000000</td>\n",
              "      <td>1.000000</td>\n",
              "      <td>7.000000</td>\n",
              "      <td>4.000000</td>\n",
              "      <td>44.000000</td>\n",
              "      <td>1.000000</td>\n",
              "      <td>15.000000</td>\n",
              "      <td>0.000000</td>\n",
              "      <td>0.000000</td>\n",
              "      <td>0.000000</td>\n",
              "      <td>8.000000</td>\n",
              "    </tr>\n",
              "    <tr>\n",
              "      <th>75%</th>\n",
              "      <td>2.302709e+08</td>\n",
              "      <td>8.754595e+07</td>\n",
              "      <td>3.000000</td>\n",
              "      <td>4.000000</td>\n",
              "      <td>7.000000</td>\n",
              "      <td>6.000000</td>\n",
              "      <td>57.000000</td>\n",
              "      <td>2.000000</td>\n",
              "      <td>20.000000</td>\n",
              "      <td>0.000000</td>\n",
              "      <td>0.000000</td>\n",
              "      <td>1.000000</td>\n",
              "      <td>9.000000</td>\n",
              "    </tr>\n",
              "    <tr>\n",
              "      <th>max</th>\n",
              "      <td>4.438672e+08</td>\n",
              "      <td>1.895026e+08</td>\n",
              "      <td>8.000000</td>\n",
              "      <td>28.000000</td>\n",
              "      <td>25.000000</td>\n",
              "      <td>14.000000</td>\n",
              "      <td>132.000000</td>\n",
              "      <td>6.000000</td>\n",
              "      <td>81.000000</td>\n",
              "      <td>42.000000</td>\n",
              "      <td>76.000000</td>\n",
              "      <td>21.000000</td>\n",
              "      <td>16.000000</td>\n",
              "    </tr>\n",
              "  </tbody>\n",
              "</table>\n",
              "</div>\n",
              "      <button class=\"colab-df-convert\" onclick=\"convertToInteractive('df-675fc1a5-aedb-472d-8ebd-570abc76e67a')\"\n",
              "              title=\"Convert this dataframe to an interactive table.\"\n",
              "              style=\"display:none;\">\n",
              "        \n",
              "  <svg xmlns=\"http://www.w3.org/2000/svg\" height=\"24px\"viewBox=\"0 0 24 24\"\n",
              "       width=\"24px\">\n",
              "    <path d=\"M0 0h24v24H0V0z\" fill=\"none\"/>\n",
              "    <path d=\"M18.56 5.44l.94 2.06.94-2.06 2.06-.94-2.06-.94-.94-2.06-.94 2.06-2.06.94zm-11 1L8.5 8.5l.94-2.06 2.06-.94-2.06-.94L8.5 2.5l-.94 2.06-2.06.94zm10 10l.94 2.06.94-2.06 2.06-.94-2.06-.94-.94-2.06-.94 2.06-2.06.94z\"/><path d=\"M17.41 7.96l-1.37-1.37c-.4-.4-.92-.59-1.43-.59-.52 0-1.04.2-1.43.59L10.3 9.45l-7.72 7.72c-.78.78-.78 2.05 0 2.83L4 21.41c.39.39.9.59 1.41.59.51 0 1.02-.2 1.41-.59l7.78-7.78 2.81-2.81c.8-.78.8-2.07 0-2.86zM5.41 20L4 18.59l7.72-7.72 1.47 1.35L5.41 20z\"/>\n",
              "  </svg>\n",
              "      </button>\n",
              "      \n",
              "  <style>\n",
              "    .colab-df-container {\n",
              "      display:flex;\n",
              "      flex-wrap:wrap;\n",
              "      gap: 12px;\n",
              "    }\n",
              "\n",
              "    .colab-df-convert {\n",
              "      background-color: #E8F0FE;\n",
              "      border: none;\n",
              "      border-radius: 50%;\n",
              "      cursor: pointer;\n",
              "      display: none;\n",
              "      fill: #1967D2;\n",
              "      height: 32px;\n",
              "      padding: 0 0 0 0;\n",
              "      width: 32px;\n",
              "    }\n",
              "\n",
              "    .colab-df-convert:hover {\n",
              "      background-color: #E2EBFA;\n",
              "      box-shadow: 0px 1px 2px rgba(60, 64, 67, 0.3), 0px 1px 3px 1px rgba(60, 64, 67, 0.15);\n",
              "      fill: #174EA6;\n",
              "    }\n",
              "\n",
              "    [theme=dark] .colab-df-convert {\n",
              "      background-color: #3B4455;\n",
              "      fill: #D2E3FC;\n",
              "    }\n",
              "\n",
              "    [theme=dark] .colab-df-convert:hover {\n",
              "      background-color: #434B5C;\n",
              "      box-shadow: 0px 1px 3px 1px rgba(0, 0, 0, 0.15);\n",
              "      filter: drop-shadow(0px 1px 2px rgba(0, 0, 0, 0.3));\n",
              "      fill: #FFFFFF;\n",
              "    }\n",
              "  </style>\n",
              "\n",
              "      <script>\n",
              "        const buttonEl =\n",
              "          document.querySelector('#df-675fc1a5-aedb-472d-8ebd-570abc76e67a button.colab-df-convert');\n",
              "        buttonEl.style.display =\n",
              "          google.colab.kernel.accessAllowed ? 'block' : 'none';\n",
              "\n",
              "        async function convertToInteractive(key) {\n",
              "          const element = document.querySelector('#df-675fc1a5-aedb-472d-8ebd-570abc76e67a');\n",
              "          const dataTable =\n",
              "            await google.colab.kernel.invokeFunction('convertToInteractive',\n",
              "                                                     [key], {});\n",
              "          if (!dataTable) return;\n",
              "\n",
              "          const docLinkHtml = 'Like what you see? Visit the ' +\n",
              "            '<a target=\"_blank\" href=https://colab.research.google.com/notebooks/data_table.ipynb>data table notebook</a>'\n",
              "            + ' to learn more about interactive tables.';\n",
              "          element.innerHTML = '';\n",
              "          dataTable['output_type'] = 'display_data';\n",
              "          await google.colab.output.renderOutput(dataTable, element);\n",
              "          const docLink = document.createElement('div');\n",
              "          docLink.innerHTML = docLinkHtml;\n",
              "          element.appendChild(docLink);\n",
              "        }\n",
              "      </script>\n",
              "    </div>\n",
              "  </div>\n",
              "  "
            ]
          },
          "metadata": {},
          "execution_count": 8
        }
      ]
    },
    {
      "cell_type": "code",
      "source": [
        "diabetes_ds.columns"
      ],
      "metadata": {
        "colab": {
          "base_uri": "https://localhost:8080/"
        },
        "id": "AS4SuTANr2rO",
        "outputId": "5cca6f0f-b8ec-4480-f302-ebbc05c4dbea"
      },
      "execution_count": 9,
      "outputs": [
        {
          "output_type": "execute_result",
          "data": {
            "text/plain": [
              "Index(['encounter_id', 'patient_nbr', 'race', 'gender', 'age', 'weight',\n",
              "       'admission_type_id', 'discharge_disposition_id', 'admission_source_id',\n",
              "       'time_in_hospital', 'payer_code', 'medical_specialty',\n",
              "       'num_lab_procedures', 'num_procedures', 'num_medications',\n",
              "       'number_outpatient', 'number_emergency', 'number_inpatient', 'diag_1',\n",
              "       'diag_2', 'diag_3', 'number_diagnoses', 'max_glu_serum', 'A1Cresult',\n",
              "       'metformin', 'repaglinide', 'nateglinide', 'chlorpropamide',\n",
              "       'glimepiride', 'acetohexamide', 'glipizide', 'glyburide', 'tolbutamide',\n",
              "       'pioglitazone', 'rosiglitazone', 'acarbose', 'miglitol', 'troglitazone',\n",
              "       'tolazamide', 'examide', 'citoglipton', 'insulin',\n",
              "       'glyburide-metformin', 'glipizide-metformin',\n",
              "       'glimepiride-pioglitazone', 'metformin-rosiglitazone',\n",
              "       'metformin-pioglitazone', 'change', 'diabetesMed', 'readmitted'],\n",
              "      dtype='object')"
            ]
          },
          "metadata": {},
          "execution_count": 9
        }
      ]
    },
    {
      "cell_type": "code",
      "source": [
        "diabetes_ds['readmitted'].unique()"
      ],
      "metadata": {
        "colab": {
          "base_uri": "https://localhost:8080/"
        },
        "id": "RoQftOrCsDQl",
        "outputId": "2a3d7a93-ad25-4d4f-fbab-8db304ac02bb"
      },
      "execution_count": 10,
      "outputs": [
        {
          "output_type": "execute_result",
          "data": {
            "text/plain": [
              "array(['NO', '>30', '<30'], dtype=object)"
            ]
          },
          "metadata": {},
          "execution_count": 10
        }
      ]
    },
    {
      "cell_type": "code",
      "source": [
        "diabetes_ds['race'].unique()"
      ],
      "metadata": {
        "colab": {
          "base_uri": "https://localhost:8080/"
        },
        "id": "6y5Jl9UoUS_N",
        "outputId": "2f87668c-10c9-4ee1-a17a-a85f9e07ecc0"
      },
      "execution_count": 11,
      "outputs": [
        {
          "output_type": "execute_result",
          "data": {
            "text/plain": [
              "array(['Caucasian', 'AfricanAmerican', '?', 'Other', 'Asian', 'Hispanic'],\n",
              "      dtype=object)"
            ]
          },
          "metadata": {},
          "execution_count": 11
        }
      ]
    },
    {
      "cell_type": "code",
      "source": [
        "diabetes_ds['gender'].unique()"
      ],
      "metadata": {
        "colab": {
          "base_uri": "https://localhost:8080/"
        },
        "id": "F-RGhi2x41R6",
        "outputId": "139a7c12-c9af-4ea9-b612-eafd514ed9d5"
      },
      "execution_count": 12,
      "outputs": [
        {
          "output_type": "execute_result",
          "data": {
            "text/plain": [
              "array(['Female', 'Male', 'Unknown/Invalid'], dtype=object)"
            ]
          },
          "metadata": {},
          "execution_count": 12
        }
      ]
    },
    {
      "cell_type": "code",
      "source": [
        "diabetes_ds['age'].unique()"
      ],
      "metadata": {
        "colab": {
          "base_uri": "https://localhost:8080/"
        },
        "id": "pIS4THuvvGtr",
        "outputId": "17e42a56-e665-442c-c173-fe53791f6318"
      },
      "execution_count": 13,
      "outputs": [
        {
          "output_type": "execute_result",
          "data": {
            "text/plain": [
              "array(['[0-10)', '[10-20)', '[20-30)', '[30-40)', '[40-50)', '[50-60)',\n",
              "       '[60-70)', '[70-80)', '[80-90)', '[90-100)'], dtype=object)"
            ]
          },
          "metadata": {},
          "execution_count": 13
        }
      ]
    },
    {
      "cell_type": "code",
      "source": [
        "sns.heatmap(diabetes_ds.isnull(), yticklabels=False,cbar=False,cmap='viridis')"
      ],
      "metadata": {
        "colab": {
          "base_uri": "https://localhost:8080/",
          "height": 410
        },
        "id": "VP4ge9-QoY6e",
        "outputId": "01cbd04a-387e-41fd-e125-328ca3be64a7"
      },
      "execution_count": 14,
      "outputs": [
        {
          "output_type": "execute_result",
          "data": {
            "text/plain": [
              "<matplotlib.axes._subplots.AxesSubplot at 0x7f9921fdc8d0>"
            ]
          },
          "metadata": {},
          "execution_count": 14
        },
        {
          "output_type": "display_data",
          "data": {
            "text/plain": [
              "<Figure size 432x288 with 1 Axes>"
            ],
            "image/png": "[encoded data removed]"
          },
          "metadata": {
            "needs_background": "light"
          }
        }
      ]
    },
    {
      "cell_type": "code",
      "source": [
        "# I dropped all non-int64 data types to enable model pass data\n",
        "diabetes_ds = diabetes_ds.drop(['weight', 'patient_nbr','payer_code', 'medical_specialty',\n",
        "                                'diag_1','diag_2','diag_3','max_glu_serum', 'A1Cresult',\n",
        "                           'metformin', 'repaglinide', 'nateglinide', 'chlorpropamide',\n",
        "               'glimepiride', 'acetohexamide', 'glipizide', 'glyburide', 'tolbutamide',\n",
        "               'pioglitazone', 'rosiglitazone', 'acarbose', 'miglitol', 'troglitazone',\n",
        "               'tolazamide', 'examide', 'citoglipton', 'insulin','glyburide-metformin',\n",
        "           'glipizide-metformin','glimepiride-pioglitazone', 'metformin-rosiglitazone',\n",
        "       'metformin-pioglitazone', 'change', 'diabetesMed'], axis = 1)"
      ],
      "metadata": {
        "id": "vS4oNul48mrP"
      },
      "execution_count": 15,
      "outputs": []
    },
    {
      "cell_type": "markdown",
      "source": [
        "# Change string variables to ints to enable models to pass data"
      ],
      "metadata": {
        "id": "EFSHJD8HxGxg"
      }
    },
    {
      "cell_type": "code",
      "source": [
        "diabetes_ds = diabetes_ds.replace({'NO':0,\n",
        "                              '>30':1,\n",
        "                              '<30':2})"
      ],
      "metadata": {
        "id": "3zg_6rJZxLj_"
      },
      "execution_count": 16,
      "outputs": []
    },
    {
      "cell_type": "code",
      "source": [
        "diabetes_ds = diabetes_ds.replace({'Caucasian': 0,\n",
        "                                  'AfricanAmerican':1,\n",
        "                                  '?':2,\n",
        "                                  'Other':3,\n",
        "                                   'Asian':4,\n",
        "                                   'Hispanic':5})"
      ],
      "metadata": {
        "id": "I4T__9WXUPEE"
      },
      "execution_count": 17,
      "outputs": []
    },
    {
      "cell_type": "code",
      "source": [
        "diabetes_ds = diabetes_ds.replace({'Female':1,\n",
        "                                   'Male':2,\n",
        "                                   'Unknown/Invalid':0})"
      ],
      "metadata": {
        "id": "CrLVmAGZ4Sff"
      },
      "execution_count": 18,
      "outputs": []
    },
    {
      "cell_type": "code",
      "source": [
        "diabetes_ds = diabetes_ds.replace(['[0-10)','[10-20)', '[20-30)', '[30-40)', '[40-50)', '[50-60)',\n",
        "       '[60-70)', '[70-80)', '[80-90)', '[90-100)'],(0,1,2,3,4,5,6,7,8,9))"
      ],
      "metadata": {
        "id": "jLAQN3OIvU0h"
      },
      "execution_count": 19,
      "outputs": []
    },
    {
      "cell_type": "code",
      "source": [
        "diabetes_ds.info()"
      ],
      "metadata": {
        "colab": {
          "base_uri": "https://localhost:8080/"
        },
        "id": "cIKRWaY3zqyn",
        "outputId": "b919c7e5-0058-4633-df03-069e3dde14b7"
      },
      "execution_count": 20,
      "outputs": [
        {
          "output_type": "stream",
          "name": "stdout",
          "text": [
            "<class 'pandas.core.frame.DataFrame'>\n",
            "RangeIndex: 101766 entries, 0 to 101765\n",
            "Data columns (total 16 columns):\n",
            " #   Column                    Non-Null Count   Dtype\n",
            "---  ------                    --------------   -----\n",
            " 0   encounter_id              101766 non-null  int64\n",
            " 1   race                      101766 non-null  int64\n",
            " 2   gender                    101766 non-null  int64\n",
            " 3   age                       101766 non-null  int64\n",
            " 4   admission_type_id         101766 non-null  int64\n",
            " 5   discharge_disposition_id  101766 non-null  int64\n",
            " 6   admission_source_id       101766 non-null  int64\n",
            " 7   time_in_hospital          101766 non-null  int64\n",
            " 8   num_lab_procedures        101766 non-null  int64\n",
            " 9   num_procedures            101766 non-null  int64\n",
            " 10  num_medications           101766 non-null  int64\n",
            " 11  number_outpatient         101766 non-null  int64\n",
            " 12  number_emergency          101766 non-null  int64\n",
            " 13  number_inpatient          101766 non-null  int64\n",
            " 14  number_diagnoses          101766 non-null  int64\n",
            " 15  readmitted                101766 non-null  int64\n",
            "dtypes: int64(16)\n",
            "memory usage: 12.4 MB\n"
          ]
        }
      ]
    },
    {
      "cell_type": "markdown",
      "source": [
        "# Task 5: Data Visualization"
      ],
      "metadata": {
        "id": "OIxQVtRwetES"
      }
    },
    {
      "cell_type": "code",
      "source": [
        "from matplotlib.legend_handler import HandlerBase\n",
        "from matplotlib.text import Text"
      ],
      "metadata": {
        "id": "Ts1Q7jGyyRlX"
      },
      "execution_count": 21,
      "outputs": []
    },
    {
      "cell_type": "code",
      "source": [
        "class TextHandler(HandlerBase):\n",
        "    def create_artists(self, legend, tup ,xdescent, ydescent,\n",
        "                        width, height, fontsize,trans):\n",
        "        tx = Text(width/2.,height/2,tup[0], fontsize=fontsize,\n",
        "                  ha=\"center\", va=\"center\", color=tup[1], fontweight=\"bold\")\n",
        "        return [tx]"
      ],
      "metadata": {
        "id": "SoUuWlLExxMk"
      },
      "execution_count": 22,
      "outputs": []
    },
    {
      "cell_type": "code",
      "source": [
        "# Plot (readmitted), KEY \n",
        "sns.set_style('whitegrid')\n",
        "ax = sns.countplot(x='readmitted', data=diabetes_ds)\n",
        "handltext = ['0', '1', '2']\n",
        "labels = ['NO', '>30', '<30']\n",
        "t = ax.get_xticklabels()\n",
        "labeldic = dict(zip(handltext, labels))\n",
        "labels = [labeldic[h.get_text()]  for h in t]\n",
        "handles = [(h.get_text(),c.get_fc()) for h,c in zip(t,ax.patches)]\n",
        "\n",
        "ax.legend(handles, labels, handler_map={tuple : TextHandler()}) \n",
        "\n",
        "plt.show()"
      ],
      "metadata": {
        "colab": {
          "base_uri": "https://localhost:8080/",
          "height": 285
        },
        "id": "M2kQeHGRe_jr",
        "outputId": "6e28fff0-40a2-44cb-860e-e34fc830fb7c"
      },
      "execution_count": 23,
      "outputs": [
        {
          "output_type": "display_data",
          "data": {
            "text/plain": [
              "<Figure size 432x288 with 1 Axes>"
            ],
            "image/png": "[encoded data removed]"
          },
          "metadata": {}
        }
      ]
    },
    {
      "cell_type": "code",
      "source": [
        "# plot (readmitted/age) \n",
        "plt.figure(figsize=(8,5))\n",
        "ax = sns.barplot(x='age', y='readmitted', data=diabetes_ds)\n",
        "handltext = ['0', '1', '2', '3', '4', '5', '6', '7', '8', '9']\n",
        "labels = ['[0-10)','[10-20)', '[20-30)', '[30-40)', '[40-50)', '[50-60)',\n",
        "       '[60-70)', '[70-80)', '[80-90)', '[90-100)']\n",
        "t = ax.get_xticklabels()\n",
        "labeldic = dict(zip(handltext, labels))\n",
        "labels = [labeldic[h.get_text()]  for h in t]\n",
        "handles = [(h.get_text(),c.get_fc()) for h,c in zip(t,ax.patches)]\n",
        "\n",
        "ax.legend(handles, labels, handler_map={tuple : TextHandler()}) \n",
        "\n",
        "plt.show()"
      ],
      "metadata": {
        "colab": {
          "base_uri": "https://localhost:8080/",
          "height": 339
        },
        "id": "xozpdfdjq3yk",
        "outputId": "f6bc07b1-8fb1-44e1-a6de-b6c24274d3eb"
      },
      "execution_count": 26,
      "outputs": [
        {
          "output_type": "display_data",
          "data": {
            "text/plain": [
              "<Figure size 576x360 with 1 Axes>"
            ],
            "image/png": "[encoded data removed]"
          },
          "metadata": {}
        }
      ]
    },
    {
      "cell_type": "code",
      "source": [
        "# plot (readmitted/race)\n",
        "plt.figure(figsize=(8,5))\n",
        "ax = sns.barplot(x='race', y='readmitted', data=diabetes_ds)\n",
        "handltext = ['0', '1', '2', '3', '4', '5']\n",
        "labels = ['Caucasian', 'AfricanAmerican', '?', 'Other', 'Asian', 'Hispanic']\n",
        "t = ax.get_xticklabels()\n",
        "labeldic = dict(zip(handltext, labels))\n",
        "labels = [labeldic[h.get_text()]  for h in t]\n",
        "handles = [(h.get_text(),c.get_fc()) for h,c in zip(t,ax.patches)]\n",
        "\n",
        "ax.legend(handles, labels, handler_map={tuple : TextHandler()}) \n",
        "\n",
        "plt.show()"
      ],
      "metadata": {
        "colab": {
          "base_uri": "https://localhost:8080/",
          "height": 339
        },
        "id": "jrlZG6KhMuWw",
        "outputId": "d54a9637-d9dc-4003-af02-94e803b9760a"
      },
      "execution_count": 27,
      "outputs": [
        {
          "output_type": "display_data",
          "data": {
            "text/plain": [
              "<Figure size 576x360 with 1 Axes>"
            ],
            "image/png": "[encoded data removed]"
          },
          "metadata": {}
        }
      ]
    },
    {
      "cell_type": "code",
      "source": [
        "# plot (readmitted/gender)\n",
        "plt.figure(figsize=(8,5))\n",
        "ax = sns.barplot(x='gender', y='readmitted', data=diabetes_ds)\n",
        "handltext = ['1', '2', '0']\n",
        "labels = ['Female', 'Male', 'Unknown/Invalid']\n",
        "t = ax.get_xticklabels()\n",
        "labeldic = dict(zip(handltext, labels))\n",
        "labels = [labeldic[h.get_text()]  for h in t]\n",
        "handles = [(h.get_text(),c.get_fc()) for h,c in zip(t,ax.patches)]\n",
        "\n",
        "ax.legend(handles, labels, handler_map={tuple : TextHandler()}) \n",
        "\n",
        "plt.show()"
      ],
      "metadata": {
        "colab": {
          "base_uri": "https://localhost:8080/",
          "height": 339
        },
        "id": "mOGTLqsBNQnc",
        "outputId": "d24e6f66-1328-48ef-f287-1988fed84912"
      },
      "execution_count": 28,
      "outputs": [
        {
          "output_type": "display_data",
          "data": {
            "text/plain": [
              "<Figure size 576x360 with 1 Axes>"
            ],
            "image/png": "[encoded data removed]"
          },
          "metadata": {}
        }
      ]
    },
    {
      "cell_type": "code",
      "source": [
        "# plot (time_in_hospital/gender)\n",
        "plt.figure(figsize=(8,5))\n",
        "ax = sns.barplot(x='gender', y='time_in_hospital', data=diabetes_ds)\n",
        "handltext = ['1', '2', '0']\n",
        "labels = ['Female', 'Male', 'Unknown/Invalid']\n",
        "t = ax.get_xticklabels()\n",
        "labeldic = dict(zip(handltext, labels))\n",
        "labels = [labeldic[h.get_text()]  for h in t]\n",
        "handles = [(h.get_text(),c.get_fc()) for h,c in zip(t,ax.patches)]\n",
        "\n",
        "ax.legend(handles, labels, handler_map={tuple : TextHandler()}) \n",
        "\n",
        "plt.show()"
      ],
      "metadata": {
        "colab": {
          "base_uri": "https://localhost:8080/",
          "height": 339
        },
        "id": "9MIe-0iTSQb_",
        "outputId": "2206f33e-500f-4bb7-c941-7f316ab074a7"
      },
      "execution_count": 29,
      "outputs": [
        {
          "output_type": "display_data",
          "data": {
            "text/plain": [
              "<Figure size 576x360 with 1 Axes>"
            ],
            "image/png": "[encoded data removed]"
          },
          "metadata": {}
        }
      ]
    },
    {
      "cell_type": "code",
      "source": [
        "# plot (time_in_hospital/age)\n",
        "plt.figure(figsize=(8,5))\n",
        "ax = sns.barplot(x='age', y='time_in_hospital', data=diabetes_ds)\n",
        "handltext = ['0', '1', '2', '3', '4', '5', '6', '7', '8', '9']\n",
        "labels = ['[0-10)','[10-20)', '[20-30)', '[30-40)', '[40-50)', '[50-60)',\n",
        "       '[60-70)', '[70-80)', '[80-90)', '[90-100)']\n",
        "t = ax.get_xticklabels()\n",
        "labeldic = dict(zip(handltext, labels))\n",
        "labels = [labeldic[h.get_text()]  for h in t]\n",
        "handles = [(h.get_text(),c.get_fc()) for h,c in zip(t,ax.patches)]\n",
        "\n",
        "ax.legend(handles, labels, handler_map={tuple : TextHandler()}) \n",
        "\n",
        "plt.show()"
      ],
      "metadata": {
        "colab": {
          "base_uri": "https://localhost:8080/",
          "height": 339
        },
        "id": "SZNBYjbMSsam",
        "outputId": "65cd2aa5-2b2b-4b8f-b8fb-d8def063cb81"
      },
      "execution_count": 30,
      "outputs": [
        {
          "output_type": "display_data",
          "data": {
            "text/plain": [
              "<Figure size 576x360 with 1 Axes>"
            ],
            "image/png": "[encoded data removed]"
          },
          "metadata": {}
        }
      ]
    },
    {
      "cell_type": "code",
      "source": [
        "# plot (time_in_hospital/race)\n",
        "plt.figure(figsize=(8,5))\n",
        "ax = sns.barplot(x='race', y='time_in_hospital', data=diabetes_ds)\n",
        "handltext = ['0', '1', '2', '3', '4', '5']\n",
        "labels = ['Caucasian', 'AfricanAmerican', '?', 'Other', 'Asian', 'Hispanic']\n",
        "t = ax.get_xticklabels()\n",
        "labeldic = dict(zip(handltext, labels))\n",
        "labels = [labeldic[h.get_text()]  for h in t]\n",
        "handles = [(h.get_text(),c.get_fc()) for h,c in zip(t,ax.patches)]\n",
        "\n",
        "ax.legend(handles, labels, handler_map={tuple : TextHandler()}) \n",
        "\n",
        "plt.show()"
      ],
      "metadata": {
        "colab": {
          "base_uri": "https://localhost:8080/",
          "height": 339
        },
        "id": "ykJL9FvVS48B",
        "outputId": "bd7d8030-9cd1-4cd9-ff47-447fb2d18bdc"
      },
      "execution_count": 32,
      "outputs": [
        {
          "output_type": "display_data",
          "data": {
            "text/plain": [
              "<Figure size 576x360 with 1 Axes>"
            ],
            "image/png": "[encoded data removed]"
          },
          "metadata": {}
        }
      ]
    },
    {
      "cell_type": "markdown",
      "source": [
        "# Scaler"
      ],
      "metadata": {
        "id": "Kb_sHyMn2ozJ"
      }
    },
    {
      "cell_type": "code",
      "source": [
        "from sklearn.preprocessing import StandardScaler"
      ],
      "metadata": {
        "id": "ghOBFnyp2tOI"
      },
      "execution_count": 33,
      "outputs": []
    },
    {
      "cell_type": "code",
      "source": [
        "scaler = StandardScaler()"
      ],
      "metadata": {
        "id": "1TJXoQ7A2ukr"
      },
      "execution_count": 34,
      "outputs": []
    },
    {
      "cell_type": "code",
      "source": [
        "scaler.fit(diabetes_ds.drop(['readmitted'], axis = 1))"
      ],
      "metadata": {
        "colab": {
          "base_uri": "https://localhost:8080/"
        },
        "id": "67DrxcIQ211O",
        "outputId": "0928cd0e-2242-4d36-faf3-761069c14621"
      },
      "execution_count": 35,
      "outputs": [
        {
          "output_type": "execute_result",
          "data": {
            "text/plain": [
              "StandardScaler()"
            ]
          },
          "metadata": {},
          "execution_count": 35
        }
      ]
    },
    {
      "cell_type": "code",
      "source": [
        "scaled_features = scaler.transform(diabetes_ds.drop('readmitted',axis=1))"
      ],
      "metadata": {
        "id": "7EbXV1m228L3"
      },
      "execution_count": 36,
      "outputs": []
    },
    {
      "cell_type": "code",
      "source": [
        "scaled_features"
      ],
      "metadata": {
        "id": "Y_oCovpJ3JCs",
        "colab": {
          "base_uri": "https://localhost:8080/"
        },
        "outputId": "124ec5f9-6b3a-4b6e-cd26-19cebbbde815"
      },
      "execution_count": 37,
      "outputs": [
        {
          "output_type": "execute_result",
          "data": {
            "text/plain": [
              "array([[-1.58733032, -0.43723767, -0.92723179, ..., -0.21262018,\n",
              "        -0.50327619, -3.3215959 ],\n",
              "       [-1.60807473, -0.43723767, -0.92723179, ..., -0.21262018,\n",
              "        -0.50327619,  0.81578448],\n",
              "       [-1.60890073,  0.64742042, -0.92723179, ..., -0.21262018,\n",
              "         0.28857905, -0.73573316],\n",
              "       ...,\n",
              "       [ 2.71485842, -0.43723767,  1.07822325, ..., -0.21262018,\n",
              "        -0.50327619,  2.88447467],\n",
              "       [ 2.71488782, -0.43723767, -0.92723179, ..., -0.21262018,\n",
              "         0.28857905,  0.81578448],\n",
              "       [ 2.71498579, -0.43723767,  1.07822325, ..., -0.21262018,\n",
              "        -0.50327619,  0.81578448]])"
            ]
          },
          "metadata": {},
          "execution_count": 37
        }
      ]
    },
    {
      "cell_type": "code",
      "source": [
        "# Data is Scaled now\n",
        "diabetes_ds_feat = pd.DataFrame(scaled_features,columns=diabetes_ds.columns[:-1])\n",
        "diabetes_ds_feat.head()"
      ],
      "metadata": {
        "id": "wg3C9RjJ3KPr",
        "colab": {
          "base_uri": "https://localhost:8080/",
          "height": 270
        },
        "outputId": "3b862108-ea95-40c4-f34c-bf6ee394a52f"
      },
      "execution_count": 38,
      "outputs": [
        {
          "output_type": "execute_result",
          "data": {
            "text/plain": [
              "   encounter_id      race    gender       age  admission_type_id  \\\n",
              "0     -1.587330 -0.437238 -0.927232 -3.824600           2.750800   \n",
              "1     -1.608075 -0.437238 -0.927232 -3.197277          -0.708461   \n",
              "2     -1.608901  0.647420 -0.927232 -2.569954          -0.708461   \n",
              "3     -1.604653 -0.437238  1.078223 -1.942632          -0.708461   \n",
              "4     -1.609366 -0.437238  1.078223 -1.315309          -0.708461   \n",
              "\n",
              "   discharge_disposition_id  admission_source_id  time_in_hospital  \\\n",
              "0                  4.031022            -1.169873         -1.137649   \n",
              "1                 -0.514312             0.306482         -0.467653   \n",
              "2                 -0.514312             0.306482         -0.802651   \n",
              "3                 -0.514312             0.306482         -0.802651   \n",
              "4                 -0.514312             0.306482         -1.137649   \n",
              "\n",
              "   num_lab_procedures  num_procedures  num_medications  number_outpatient  \\\n",
              "0           -0.106517       -0.785398        -1.848268          -0.291461   \n",
              "1            0.808384       -0.785398         0.243390          -0.291461   \n",
              "2           -1.631351        2.145781        -0.371804           1.286748   \n",
              "3            0.045967       -0.199162        -0.002688          -0.291461   \n",
              "4            0.401761       -0.785398        -0.986997          -0.291461   \n",
              "\n",
              "   number_emergency  number_inpatient  number_diagnoses  \n",
              "0          -0.21262         -0.503276         -3.321596  \n",
              "1          -0.21262         -0.503276          0.815784  \n",
              "2          -0.21262          0.288579         -0.735733  \n",
              "3          -0.21262         -0.503276         -0.218561  \n",
              "4          -0.21262         -0.503276         -1.252906  "
            ],
            "text/html": [
              "\n",
              "  <div id=\"df-21f19c90-a719-4eca-b217-3629076bd3df\">\n",
              "    <div class=\"colab-df-container\">\n",
              "      <div>\n",
              "<style scoped>\n",
              "    .dataframe tbody tr th:only-of-type {\n",
              "        vertical-align: middle;\n",
              "    }\n",
              "\n",
              "    .dataframe tbody tr th {\n",
              "        vertical-align: top;\n",
              "    }\n",
              "\n",
              "    .dataframe thead th {\n",
              "        text-align: right;\n",
              "    }\n",
              "</style>\n",
              "<table border=\"1\" class=\"dataframe\">\n",
              "  <thead>\n",
              "    <tr style=\"text-align: right;\">\n",
              "      <th></th>\n",
              "      <th>encounter_id</th>\n",
              "      <th>race</th>\n",
              "      <th>gender</th>\n",
              "      <th>age</th>\n",
              "      <th>admission_type_id</th>\n",
              "      <th>discharge_disposition_id</th>\n",
              "      <th>admission_source_id</th>\n",
              "      <th>time_in_hospital</th>\n",
              "      <th>num_lab_procedures</th>\n",
              "      <th>num_procedures</th>\n",
              "      <th>num_medications</th>\n",
              "      <th>number_outpatient</th>\n",
              "      <th>number_emergency</th>\n",
              "      <th>number_inpatient</th>\n",
              "      <th>number_diagnoses</th>\n",
              "    </tr>\n",
              "  </thead>\n",
              "  <tbody>\n",
              "    <tr>\n",
              "      <th>0</th>\n",
              "      <td>-1.587330</td>\n",
              "      <td>-0.437238</td>\n",
              "      <td>-0.927232</td>\n",
              "      <td>-3.824600</td>\n",
              "      <td>2.750800</td>\n",
              "      <td>4.031022</td>\n",
              "      <td>-1.169873</td>\n",
              "      <td>-1.137649</td>\n",
              "      <td>-0.106517</td>\n",
              "      <td>-0.785398</td>\n",
              "      <td>-1.848268</td>\n",
              "      <td>-0.291461</td>\n",
              "      <td>-0.21262</td>\n",
              "      <td>-0.503276</td>\n",
              "      <td>-3.321596</td>\n",
              "    </tr>\n",
              "    <tr>\n",
              "      <th>1</th>\n",
              "      <td>-1.608075</td>\n",
              "      <td>-0.437238</td>\n",
              "      <td>-0.927232</td>\n",
              "      <td>-3.197277</td>\n",
              "      <td>-0.708461</td>\n",
              "      <td>-0.514312</td>\n",
              "      <td>0.306482</td>\n",
              "      <td>-0.467653</td>\n",
              "      <td>0.808384</td>\n",
              "      <td>-0.785398</td>\n",
              "      <td>0.243390</td>\n",
              "      <td>-0.291461</td>\n",
              "      <td>-0.21262</td>\n",
              "      <td>-0.503276</td>\n",
              "      <td>0.815784</td>\n",
              "    </tr>\n",
              "    <tr>\n",
              "      <th>2</th>\n",
              "      <td>-1.608901</td>\n",
              "      <td>0.647420</td>\n",
              "      <td>-0.927232</td>\n",
              "      <td>-2.569954</td>\n",
              "      <td>-0.708461</td>\n",
              "      <td>-0.514312</td>\n",
              "      <td>0.306482</td>\n",
              "      <td>-0.802651</td>\n",
              "      <td>-1.631351</td>\n",
              "      <td>2.145781</td>\n",
              "      <td>-0.371804</td>\n",
              "      <td>1.286748</td>\n",
              "      <td>-0.21262</td>\n",
              "      <td>0.288579</td>\n",
              "      <td>-0.735733</td>\n",
              "    </tr>\n",
              "    <tr>\n",
              "      <th>3</th>\n",
              "      <td>-1.604653</td>\n",
              "      <td>-0.437238</td>\n",
              "      <td>1.078223</td>\n",
              "      <td>-1.942632</td>\n",
              "      <td>-0.708461</td>\n",
              "      <td>-0.514312</td>\n",
              "      <td>0.306482</td>\n",
              "      <td>-0.802651</td>\n",
              "      <td>0.045967</td>\n",
              "      <td>-0.199162</td>\n",
              "      <td>-0.002688</td>\n",
              "      <td>-0.291461</td>\n",
              "      <td>-0.21262</td>\n",
              "      <td>-0.503276</td>\n",
              "      <td>-0.218561</td>\n",
              "    </tr>\n",
              "    <tr>\n",
              "      <th>4</th>\n",
              "      <td>-1.609366</td>\n",
              "      <td>-0.437238</td>\n",
              "      <td>1.078223</td>\n",
              "      <td>-1.315309</td>\n",
              "      <td>-0.708461</td>\n",
              "      <td>-0.514312</td>\n",
              "      <td>0.306482</td>\n",
              "      <td>-1.137649</td>\n",
              "      <td>0.401761</td>\n",
              "      <td>-0.785398</td>\n",
              "      <td>-0.986997</td>\n",
              "      <td>-0.291461</td>\n",
              "      <td>-0.21262</td>\n",
              "      <td>-0.503276</td>\n",
              "      <td>-1.252906</td>\n",
              "    </tr>\n",
              "  </tbody>\n",
              "</table>\n",
              "</div>\n",
              "      <button class=\"colab-df-convert\" onclick=\"convertToInteractive('df-21f19c90-a719-4eca-b217-3629076bd3df')\"\n",
              "              title=\"Convert this dataframe to an interactive table.\"\n",
              "              style=\"display:none;\">\n",
              "        \n",
              "  <svg xmlns=\"http://www.w3.org/2000/svg\" height=\"24px\"viewBox=\"0 0 24 24\"\n",
              "       width=\"24px\">\n",
              "    <path d=\"M0 0h24v24H0V0z\" fill=\"none\"/>\n",
              "    <path d=\"M18.56 5.44l.94 2.06.94-2.06 2.06-.94-2.06-.94-.94-2.06-.94 2.06-2.06.94zm-11 1L8.5 8.5l.94-2.06 2.06-.94-2.06-.94L8.5 2.5l-.94 2.06-2.06.94zm10 10l.94 2.06.94-2.06 2.06-.94-2.06-.94-.94-2.06-.94 2.06-2.06.94z\"/><path d=\"M17.41 7.96l-1.37-1.37c-.4-.4-.92-.59-1.43-.59-.52 0-1.04.2-1.43.59L10.3 9.45l-7.72 7.72c-.78.78-.78 2.05 0 2.83L4 21.41c.39.39.9.59 1.41.59.51 0 1.02-.2 1.41-.59l7.78-7.78 2.81-2.81c.8-.78.8-2.07 0-2.86zM5.41 20L4 18.59l7.72-7.72 1.47 1.35L5.41 20z\"/>\n",
              "  </svg>\n",
              "      </button>\n",
              "      \n",
              "  <style>\n",
              "    .colab-df-container {\n",
              "      display:flex;\n",
              "      flex-wrap:wrap;\n",
              "      gap: 12px;\n",
              "    }\n",
              "\n",
              "    .colab-df-convert {\n",
              "      background-color: #E8F0FE;\n",
              "      border: none;\n",
              "      border-radius: 50%;\n",
              "      cursor: pointer;\n",
              "      display: none;\n",
              "      fill: #1967D2;\n",
              "      height: 32px;\n",
              "      padding: 0 0 0 0;\n",
              "      width: 32px;\n",
              "    }\n",
              "\n",
              "    .colab-df-convert:hover {\n",
              "      background-color: #E2EBFA;\n",
              "      box-shadow: 0px 1px 2px rgba(60, 64, 67, 0.3), 0px 1px 3px 1px rgba(60, 64, 67, 0.15);\n",
              "      fill: #174EA6;\n",
              "    }\n",
              "\n",
              "    [theme=dark] .colab-df-convert {\n",
              "      background-color: #3B4455;\n",
              "      fill: #D2E3FC;\n",
              "    }\n",
              "\n",
              "    [theme=dark] .colab-df-convert:hover {\n",
              "      background-color: #434B5C;\n",
              "      box-shadow: 0px 1px 3px 1px rgba(0, 0, 0, 0.15);\n",
              "      filter: drop-shadow(0px 1px 2px rgba(0, 0, 0, 0.3));\n",
              "      fill: #FFFFFF;\n",
              "    }\n",
              "  </style>\n",
              "\n",
              "      <script>\n",
              "        const buttonEl =\n",
              "          document.querySelector('#df-21f19c90-a719-4eca-b217-3629076bd3df button.colab-df-convert');\n",
              "        buttonEl.style.display =\n",
              "          google.colab.kernel.accessAllowed ? 'block' : 'none';\n",
              "\n",
              "        async function convertToInteractive(key) {\n",
              "          const element = document.querySelector('#df-21f19c90-a719-4eca-b217-3629076bd3df');\n",
              "          const dataTable =\n",
              "            await google.colab.kernel.invokeFunction('convertToInteractive',\n",
              "                                                     [key], {});\n",
              "          if (!dataTable) return;\n",
              "\n",
              "          const docLinkHtml = 'Like what you see? Visit the ' +\n",
              "            '<a target=\"_blank\" href=https://colab.research.google.com/notebooks/data_table.ipynb>data table notebook</a>'\n",
              "            + ' to learn more about interactive tables.';\n",
              "          element.innerHTML = '';\n",
              "          dataTable['output_type'] = 'display_data';\n",
              "          await google.colab.output.renderOutput(dataTable, element);\n",
              "          const docLink = document.createElement('div');\n",
              "          docLink.innerHTML = docLinkHtml;\n",
              "          element.appendChild(docLink);\n",
              "        }\n",
              "      </script>\n",
              "    </div>\n",
              "  </div>\n",
              "  "
            ]
          },
          "metadata": {},
          "execution_count": 38
        }
      ]
    },
    {
      "cell_type": "markdown",
      "source": [
        "# Task 6:Build Models"
      ],
      "metadata": {
        "id": "OeGhop4Dpeyd"
      }
    },
    {
      "cell_type": "code",
      "source": [
        "## Perform Train,Test Split\n",
        "from sklearn.model_selection import train_test_split"
      ],
      "metadata": {
        "id": "Mi2XpN0X09lT"
      },
      "execution_count": 39,
      "outputs": []
    },
    {
      "cell_type": "code",
      "source": [
        "readmitted = diabetes_ds['readmitted'].values.reshape(-1, 1)"
      ],
      "metadata": {
        "id": "dMxUv5xOr0nc"
      },
      "execution_count": 40,
      "outputs": []
    },
    {
      "cell_type": "code",
      "source": [
        "X = diabetes_ds.drop('readmitted', axis = 1)\n",
        "y = diabetes_ds['readmitted']"
      ],
      "metadata": {
        "id": "mAiTrYPAjQ8N"
      },
      "execution_count": 41,
      "outputs": []
    },
    {
      "cell_type": "code",
      "source": [
        "X_train, X_test, y_train, y_test = train_test_split(X, y, test_size=0.4, random_state=1)"
      ],
      "metadata": {
        "id": "Ur4v85OV1H8V"
      },
      "execution_count": 42,
      "outputs": []
    },
    {
      "cell_type": "code",
      "source": [
        "# i will conduct a logistic regression\n",
        "from sklearn.linear_model import LogisticRegression"
      ],
      "metadata": {
        "id": "ueDwEbfgCEVO"
      },
      "execution_count": 43,
      "outputs": []
    },
    {
      "cell_type": "code",
      "source": [
        "# Create the model by assigning a variable the class pertaining to the model selected\n",
        "logmodel = LogisticRegression()"
      ],
      "metadata": {
        "id": "j0RRatKE0hgR"
      },
      "execution_count": 44,
      "outputs": []
    },
    {
      "cell_type": "code",
      "source": [
        " # Train the Model created by using the fit method\n",
        "logmodel.fit(X_train,y_train)"
      ],
      "metadata": {
        "colab": {
          "base_uri": "https://localhost:8080/"
        },
        "id": "3ms3zbaK1fYu",
        "outputId": "86018d7d-61e3-4f1b-8bd0-36b770e5d520"
      },
      "execution_count": 45,
      "outputs": [
        {
          "output_type": "execute_result",
          "data": {
            "text/plain": [
              "LogisticRegression()"
            ]
          },
          "metadata": {},
          "execution_count": 45
        }
      ]
    },
    {
      "cell_type": "code",
      "source": [
        "predictions = logmodel.predict(X_test)"
      ],
      "metadata": {
        "id": "-n2IbeSJ1_NH"
      },
      "execution_count": 46,
      "outputs": []
    },
    {
      "cell_type": "markdown",
      "source": [
        "# Task 7: Evaluate Models"
      ],
      "metadata": {
        "id": "91bwkMqupkig"
      }
    },
    {
      "cell_type": "code",
      "source": [
        "from sklearn.metrics import classification_report"
      ],
      "metadata": {
        "id": "uBs_j9dvCOlg"
      },
      "execution_count": 47,
      "outputs": []
    },
    {
      "cell_type": "code",
      "source": [
        "print(classification_report(y_test, predictions))"
      ],
      "metadata": {
        "id": "oV-9YPVXCR8e",
        "colab": {
          "base_uri": "https://localhost:8080/"
        },
        "outputId": "6b8ed2bb-6fed-416a-e304-45676dd8199a"
      },
      "execution_count": 48,
      "outputs": [
        {
          "output_type": "stream",
          "name": "stdout",
          "text": [
            "              precision    recall  f1-score   support\n",
            "\n",
            "           0       0.54      1.00      0.70     22076\n",
            "           1       0.00      0.00      0.00     14185\n",
            "           2       0.00      0.00      0.00      4446\n",
            "\n",
            "    accuracy                           0.54     40707\n",
            "   macro avg       0.18      0.33      0.23     40707\n",
            "weighted avg       0.29      0.54      0.38     40707\n",
            "\n"
          ]
        },
        {
          "output_type": "stream",
          "name": "stderr",
          "text": [
            "/usr/local/lib/python3.7/dist-packages/sklearn/metrics/_classification.py:1318: UndefinedMetricWarning:\n",
            "\n",
            "Precision and F-score are ill-defined and being set to 0.0 in labels with no predicted samples. Use `zero_division` parameter to control this behavior.\n",
            "\n",
            "/usr/local/lib/python3.7/dist-packages/sklearn/metrics/_classification.py:1318: UndefinedMetricWarning:\n",
            "\n",
            "Precision and F-score are ill-defined and being set to 0.0 in labels with no predicted samples. Use `zero_division` parameter to control this behavior.\n",
            "\n",
            "/usr/local/lib/python3.7/dist-packages/sklearn/metrics/_classification.py:1318: UndefinedMetricWarning:\n",
            "\n",
            "Precision and F-score are ill-defined and being set to 0.0 in labels with no predicted samples. Use `zero_division` parameter to control this behavior.\n",
            "\n"
          ]
        }
      ]
    },
    {
      "cell_type": "markdown",
      "source": [
        "#Task 10: Making Predictions"
      ],
      "metadata": {
        "id": "GcQlRjicp8kv"
      }
    },
    {
      "cell_type": "code",
      "source": [
        "print(logmodel.score(X_test,y_test))\n",
        "pp = logmodel.predict(X_test)\n",
        "print('readmitted: ', sum(pp!=0))\n",
        "print('age: ', sum(pp==0))"
      ],
      "metadata": {
        "id": "uUiPZfsrqFEz",
        "colab": {
          "base_uri": "https://localhost:8080/"
        },
        "outputId": "8336b9d0-5529-49d6-fb17-b73a7011805e"
      },
      "execution_count": 49,
      "outputs": [
        {
          "output_type": "stream",
          "name": "stdout",
          "text": [
            "0.5423145896283195\n",
            "readmitted:  0\n",
            "age:  40707\n"
          ]
        }
      ]
    },
    {
      "cell_type": "markdown",
      "source": [
        "# Select Models"
      ],
      "metadata": {
        "id": "cZx8ldGgduzM"
      }
    },
    {
      "cell_type": "code",
      "source": [
        ""
      ],
      "metadata": {
        "id": "ZRuxpUBldzwH"
      },
      "execution_count": null,
      "outputs": []
    },
    {
      "cell_type": "markdown",
      "source": [
        "# KNN"
      ],
      "metadata": {
        "id": "ajKwVcRjzegM"
      }
    },
    {
      "cell_type": "code",
      "source": [
        "# Using KNN model"
      ],
      "metadata": {
        "id": "rvxU1qHp49-H"
      },
      "execution_count": null,
      "outputs": []
    },
    {
      "cell_type": "code",
      "source": [
        "from sklearn.neighbors import KNeighborsClassifier"
      ],
      "metadata": {
        "id": "Ookwd_cl5WKr"
      },
      "execution_count": 50,
      "outputs": []
    },
    {
      "cell_type": "code",
      "source": [
        "# Start value of K at 1 (K=1)\n",
        "knn = KNeighborsClassifier(n_neighbors=1) "
      ],
      "metadata": {
        "id": "8eJLM_9p5a-l"
      },
      "execution_count": 51,
      "outputs": []
    },
    {
      "cell_type": "code",
      "source": [
        "knn.fit(X_train,y_train)"
      ],
      "metadata": {
        "colab": {
          "base_uri": "https://localhost:8080/"
        },
        "id": "QUxz6vMm5efu",
        "outputId": "1099882f-be44-4841-c460-29b6fddedb11"
      },
      "execution_count": 52,
      "outputs": [
        {
          "output_type": "execute_result",
          "data": {
            "text/plain": [
              "KNeighborsClassifier(n_neighbors=1)"
            ]
          },
          "metadata": {},
          "execution_count": 52
        }
      ]
    },
    {
      "cell_type": "code",
      "source": [
        "pred = knn.predict(X_test)"
      ],
      "metadata": {
        "id": "1O6UWJi75htY"
      },
      "execution_count": 53,
      "outputs": []
    },
    {
      "cell_type": "code",
      "source": [
        "# Now let's eveluate the model"
      ],
      "metadata": {
        "id": "0g8difxr5lnV"
      },
      "execution_count": null,
      "outputs": []
    },
    {
      "cell_type": "code",
      "source": [
        "from sklearn.metrics import classification_report,confusion_matrix"
      ],
      "metadata": {
        "id": "3V-cvoJM5s1l"
      },
      "execution_count": 54,
      "outputs": []
    },
    {
      "cell_type": "code",
      "source": [
        "print(confusion_matrix(y_test,pred))"
      ],
      "metadata": {
        "colab": {
          "base_uri": "https://localhost:8080/"
        },
        "id": "cFeZq9tA5xa5",
        "outputId": "69cbd3b7-c2b2-445a-b20a-8fc2d99a764b"
      },
      "execution_count": null,
      "outputs": [
        {
          "output_type": "stream",
          "name": "stdout",
          "text": [
            "[[9996 4991 1578]\n",
            " [4923 4292 1313]\n",
            " [1610 1314  513]]\n"
          ]
        }
      ]
    },
    {
      "cell_type": "code",
      "source": [
        "print(classification_report(y_test,pred))"
      ],
      "metadata": {
        "colab": {
          "base_uri": "https://localhost:8080/"
        },
        "id": "ZMLVYkwW52Jc",
        "outputId": "5d7c2440-88a1-4bb4-e04d-49fbe71f99ff"
      },
      "execution_count": 55,
      "outputs": [
        {
          "output_type": "stream",
          "name": "stdout",
          "text": [
            "              precision    recall  f1-score   support\n",
            "\n",
            "           0       0.55      0.55      0.55     22076\n",
            "           1       0.36      0.36      0.36     14185\n",
            "           2       0.11      0.11      0.11      4446\n",
            "\n",
            "    accuracy                           0.43     40707\n",
            "   macro avg       0.34      0.34      0.34     40707\n",
            "weighted avg       0.44      0.43      0.44     40707\n",
            "\n"
          ]
        }
      ]
    },
    {
      "cell_type": "code",
      "source": [
        ""
      ],
      "metadata": {
        "id": "GXWGhon355Nt"
      },
      "execution_count": 55,
      "outputs": []
    },
    {
      "cell_type": "code",
      "source": [
        "error_rate = []\n",
        "\n",
        "for i in range(1,40):\n",
        "\n",
        "  knn = KNeighborsClassifier(n_neighbors=i)\n",
        "  knn.fit(X_train,y_train)\n",
        "  pred_i = knn.predict(X_test)\n",
        "  error_rate.append(np.mean(pred_i != y_test))"
      ],
      "metadata": {
        "id": "gWVTDLlX5-X3"
      },
      "execution_count": 56,
      "outputs": []
    },
    {
      "cell_type": "code",
      "source": [
        "error_rate"
      ],
      "metadata": {
        "colab": {
          "base_uri": "https://localhost:8080/"
        },
        "id": "AuEoz-m_6AAh",
        "outputId": "d126e15f-61f6-414a-dbb1-450fa908268b"
      },
      "execution_count": 57,
      "outputs": [
        {
          "output_type": "execute_result",
          "data": {
            "text/plain": [
              "[0.5658731913430123,\n",
              " 0.4967204657675584,\n",
              " 0.5182155403247599,\n",
              " 0.5064239565676665,\n",
              " 0.5038199818213084,\n",
              " 0.49812071633871324,\n",
              " 0.49812071633871324,\n",
              " 0.4925197140540939,\n",
              " 0.49126685827990274,\n",
              " 0.4903087920996389,\n",
              " 0.4879750411477142,\n",
              " 0.4876802515537868,\n",
              " 0.48350406563981624,\n",
              " 0.4835777630382981,\n",
              " 0.482742525855504,\n",
              " 0.48333210504335866,\n",
              " 0.4815142358808067,\n",
              " 0.4820055518706856,\n",
              " 0.48124401208637335,\n",
              " 0.4805807355000368,\n",
              " 0.47773110275873926,\n",
              " 0.47738718156582405,\n",
              " 0.47488147001744174,\n",
              " 0.4763062863880905,\n",
              " 0.47655194438302995,\n",
              " 0.47591323359618737,\n",
              " 0.47488147001744174,\n",
              " 0.4746603778219962,\n",
              " 0.47394796963667185,\n",
              " 0.47387427223819,\n",
              " 0.4736531800427445,\n",
              " 0.4718844424791805,\n",
              " 0.470754415702459,\n",
              " 0.47053332350701355,\n",
              " 0.4714422580882895,\n",
              " 0.4706070209054954,\n",
              " 0.4721301004741199,\n",
              " 0.47077898150195296,\n",
              " 0.4709509420984106]"
            ]
          },
          "metadata": {},
          "execution_count": 57
        }
      ]
    },
    {
      "cell_type": "code",
      "source": [
        "plt.figure(figsize=(12,8))\n",
        "plt.plot(range(1,40),error_rate,color='blue', linestyle='dashed', marker='o',\n",
        "         markerfacecolor='red', markersize=10)\n",
        "plt.title('Error Rate vs K Value')\n",
        "plt.xlabel('Error Rate')"
      ],
      "metadata": {
        "colab": {
          "base_uri": "https://localhost:8080/",
          "height": 536
        },
        "id": "1Y4yFBfT6F-l",
        "outputId": "381725ce-1767-420e-a87d-c1f8dcff858b"
      },
      "execution_count": 58,
      "outputs": [
        {
          "output_type": "execute_result",
          "data": {
            "text/plain": [
              "Text(0.5, 0, 'Error Rate')"
            ]
          },
          "metadata": {},
          "execution_count": 58
        },
        {
          "output_type": "display_data",
          "data": {
            "text/plain": [
              "<Figure size 864x576 with 1 Axes>"
            ],
            "image/png": "[encoded data removed]"
          },
          "metadata": {}
        }
      ]
    },
    {
      "cell_type": "code",
      "source": [
        "knn = KNeighborsClassifier(n_neighbors=15)"
      ],
      "metadata": {
        "id": "9eDRnN9C6ODS"
      },
      "execution_count": 59,
      "outputs": []
    },
    {
      "cell_type": "code",
      "source": [
        "knn.fit(X_train,y_train)\n",
        "pred = knn.predict(X_test)"
      ],
      "metadata": {
        "id": "gOXpkxdP7Git"
      },
      "execution_count": 60,
      "outputs": []
    },
    {
      "cell_type": "code",
      "source": [
        "print ('With k = 15')\n",
        "print(confusion_matrix(y_test,pred))"
      ],
      "metadata": {
        "colab": {
          "base_uri": "https://localhost:8080/"
        },
        "id": "bzGsnNlR7LLT",
        "outputId": "80e31972-89d6-470c-828f-ca0afa76e4ef"
      },
      "execution_count": 61,
      "outputs": [
        {
          "output_type": "stream",
          "name": "stdout",
          "text": [
            "With k = 15\n",
            "[[17740  4282    54]\n",
            " [10834  3303    48]\n",
            " [ 3511   922    13]]\n"
          ]
        }
      ]
    },
    {
      "cell_type": "code",
      "source": [
        "print(classification_report(y_test,pred))"
      ],
      "metadata": {
        "colab": {
          "base_uri": "https://localhost:8080/"
        },
        "id": "u_2sPDbi7OyL",
        "outputId": "47c8f990-816d-4108-fa7f-412b46c0ebc5"
      },
      "execution_count": 62,
      "outputs": [
        {
          "output_type": "stream",
          "name": "stdout",
          "text": [
            "              precision    recall  f1-score   support\n",
            "\n",
            "           0       0.55      0.80      0.66     22076\n",
            "           1       0.39      0.23      0.29     14185\n",
            "           2       0.11      0.00      0.01      4446\n",
            "\n",
            "    accuracy                           0.52     40707\n",
            "   macro avg       0.35      0.35      0.32     40707\n",
            "weighted avg       0.45      0.52      0.46     40707\n",
            "\n"
          ]
        }
      ]
    },
    {
      "cell_type": "code",
      "source": [
        "knn = KNeighborsClassifier(n_neighbors=29)\n",
        "knn.fit(X_train,y_train)\n",
        "pred = knn.predict(X_test)\n",
        "print ('With k = 29')\n",
        "print(confusion_matrix(y_test,pred))"
      ],
      "metadata": {
        "colab": {
          "base_uri": "https://localhost:8080/"
        },
        "id": "pErYc6ZH7USH",
        "outputId": "6b96a913-dd6e-47fb-e2a0-c084178bf21f"
      },
      "execution_count": 63,
      "outputs": [
        {
          "output_type": "stream",
          "name": "stdout",
          "text": [
            "With k = 29\n",
            "[[18624  3450     2]\n",
            " [11390  2789     6]\n",
            " [ 3674   771     1]]\n"
          ]
        }
      ]
    },
    {
      "cell_type": "code",
      "source": [
        "print(classification_report(y_test,pred))"
      ],
      "metadata": {
        "colab": {
          "base_uri": "https://localhost:8080/"
        },
        "id": "VR0-IPqe7axg",
        "outputId": "94f4c3f3-156e-49a1-988e-2ded471b3147"
      },
      "execution_count": 64,
      "outputs": [
        {
          "output_type": "stream",
          "name": "stdout",
          "text": [
            "              precision    recall  f1-score   support\n",
            "\n",
            "           0       0.55      0.84      0.67     22076\n",
            "           1       0.40      0.20      0.26     14185\n",
            "           2       0.11      0.00      0.00      4446\n",
            "\n",
            "    accuracy                           0.53     40707\n",
            "   macro avg       0.35      0.35      0.31     40707\n",
            "weighted avg       0.45      0.53      0.45     40707\n",
            "\n"
          ]
        }
      ]
    },
    {
      "cell_type": "code",
      "source": [
        "knn = KNeighborsClassifier(n_neighbors=40)\n",
        "knn.fit(X_train,y_train)\n",
        "pred = knn.predict(X_test)\n",
        "print ('With k = 40')\n",
        "print(confusion_matrix(y_test,pred))"
      ],
      "metadata": {
        "colab": {
          "base_uri": "https://localhost:8080/"
        },
        "id": "L3ogbb6e7iUe",
        "outputId": "aa5f8840-9ee1-4a5d-95e4-c60d5aa96d20"
      },
      "execution_count": 65,
      "outputs": [
        {
          "output_type": "stream",
          "name": "stdout",
          "text": [
            "With k = 40\n",
            "[[19153  2923     0]\n",
            " [11798  2387     0]\n",
            " [ 3787   659     0]]\n"
          ]
        }
      ]
    },
    {
      "cell_type": "code",
      "source": [
        "print(classification_report(y_test,pred))"
      ],
      "metadata": {
        "colab": {
          "base_uri": "https://localhost:8080/"
        },
        "id": "ZkzLDN6S7pfe",
        "outputId": "73ff41f0-d0fd-4d98-8705-df7000e979d3"
      },
      "execution_count": 66,
      "outputs": [
        {
          "output_type": "stream",
          "name": "stdout",
          "text": [
            "              precision    recall  f1-score   support\n",
            "\n",
            "           0       0.55      0.87      0.67     22076\n",
            "           1       0.40      0.17      0.24     14185\n",
            "           2       0.00      0.00      0.00      4446\n",
            "\n",
            "    accuracy                           0.53     40707\n",
            "   macro avg       0.32      0.35      0.30     40707\n",
            "weighted avg       0.44      0.53      0.45     40707\n",
            "\n"
          ]
        },
        {
          "output_type": "stream",
          "name": "stderr",
          "text": [
            "/usr/local/lib/python3.7/dist-packages/sklearn/metrics/_classification.py:1318: UndefinedMetricWarning:\n",
            "\n",
            "Precision and F-score are ill-defined and being set to 0.0 in labels with no predicted samples. Use `zero_division` parameter to control this behavior.\n",
            "\n",
            "/usr/local/lib/python3.7/dist-packages/sklearn/metrics/_classification.py:1318: UndefinedMetricWarning:\n",
            "\n",
            "Precision and F-score are ill-defined and being set to 0.0 in labels with no predicted samples. Use `zero_division` parameter to control this behavior.\n",
            "\n",
            "/usr/local/lib/python3.7/dist-packages/sklearn/metrics/_classification.py:1318: UndefinedMetricWarning:\n",
            "\n",
            "Precision and F-score are ill-defined and being set to 0.0 in labels with no predicted samples. Use `zero_division` parameter to control this behavior.\n",
            "\n"
          ]
        }
      ]
    },
    {
      "cell_type": "markdown",
      "source": [
        "# SVM"
      ],
      "metadata": {
        "id": "aa0LLhuj6XZW"
      }
    },
    {
      "cell_type": "code",
      "source": [
        "# SVM model\n",
        "from sklearn.svm import SVC\n",
        "\n",
        "svc_model = SVC()\n",
        "svc_model.fit(X_train, y_train)"
      ],
      "metadata": {
        "colab": {
          "base_uri": "https://localhost:8080/"
        },
        "id": "yVq01QDT6WFf",
        "outputId": "adf265b8-7adf-4a14-c065-5e768b849b85"
      },
      "execution_count": 67,
      "outputs": [
        {
          "output_type": "execute_result",
          "data": {
            "text/plain": [
              "SVC()"
            ]
          },
          "metadata": {},
          "execution_count": 67
        }
      ]
    },
    {
      "cell_type": "code",
      "source": [
        "# Prediction\n",
        "svc_pred = svc_model.predict(X_test)"
      ],
      "metadata": {
        "id": "DmOEPl_X6sSg"
      },
      "execution_count": 68,
      "outputs": []
    },
    {
      "cell_type": "code",
      "source": [
        "# Accuracy score\n",
        "svc_pred = svc_model.predict(X_test)"
      ],
      "metadata": {
        "id": "N10E9qFY6yb8"
      },
      "execution_count": 69,
      "outputs": []
    },
    {
      "cell_type": "code",
      "source": [
        "from sklearn.metrics import classification_report, confusion_matrix\n",
        "\n",
        "print(confusion_matrix(y_test, svc_pred))\n",
        "print(classification_report(y_test,svc_pred))"
      ],
      "metadata": {
        "colab": {
          "base_uri": "https://localhost:8080/"
        },
        "id": "mC8RemFf7LqH",
        "outputId": "495ff4eb-dbdb-4869-9d3c-ff46d97d95aa"
      },
      "execution_count": 70,
      "outputs": [
        {
          "output_type": "stream",
          "name": "stdout",
          "text": [
            "[[22076     0     0]\n",
            " [14185     0     0]\n",
            " [ 4446     0     0]]\n",
            "              precision    recall  f1-score   support\n",
            "\n",
            "           0       0.54      1.00      0.70     22076\n",
            "           1       0.00      0.00      0.00     14185\n",
            "           2       0.00      0.00      0.00      4446\n",
            "\n",
            "    accuracy                           0.54     40707\n",
            "   macro avg       0.18      0.33      0.23     40707\n",
            "weighted avg       0.29      0.54      0.38     40707\n",
            "\n"
          ]
        },
        {
          "output_type": "stream",
          "name": "stderr",
          "text": [
            "/usr/local/lib/python3.7/dist-packages/sklearn/metrics/_classification.py:1318: UndefinedMetricWarning:\n",
            "\n",
            "Precision and F-score are ill-defined and being set to 0.0 in labels with no predicted samples. Use `zero_division` parameter to control this behavior.\n",
            "\n",
            "/usr/local/lib/python3.7/dist-packages/sklearn/metrics/_classification.py:1318: UndefinedMetricWarning:\n",
            "\n",
            "Precision and F-score are ill-defined and being set to 0.0 in labels with no predicted samples. Use `zero_division` parameter to control this behavior.\n",
            "\n",
            "/usr/local/lib/python3.7/dist-packages/sklearn/metrics/_classification.py:1318: UndefinedMetricWarning:\n",
            "\n",
            "Precision and F-score are ill-defined and being set to 0.0 in labels with no predicted samples. Use `zero_division` parameter to control this behavior.\n",
            "\n"
          ]
        }
      ]
    },
    {
      "cell_type": "markdown",
      "source": [
        "# Conclusion"
      ],
      "metadata": {
        "id": "8c0NU7oV3YsA"
      }
    },
    {
      "cell_type": "markdown",
      "source": [
        "The conclusion from model building was not straight forward. Both models were very close in the 50% range. The best model is KNN because prediction is 55%. "
      ],
      "metadata": {
        "id": "3eTVqAqk3fBN"
      }
    }
  ]
}